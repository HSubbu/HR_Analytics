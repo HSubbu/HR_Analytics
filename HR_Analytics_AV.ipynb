{
  "nbformat": 4,
  "nbformat_minor": 0,
  "metadata": {
    "colab": {
      "name": "HR Analytics_AV.ipynb",
      "provenance": [],
      "collapsed_sections": []
    },
    "kernelspec": {
      "display_name": "Python 3",
      "name": "python3"
    }
  },
  "cells": [
    {
      "cell_type": "code",
      "metadata": {
        "id": "rxC-diLkSvsS"
      },
      "source": [
        "import pandas as pd\r\n",
        "import numpy as np\r\n",
        "import matplotlib.pyplot as plt\r\n",
        "import seaborn as sns\r\n",
        "\r\n",
        "import warnings\r\n",
        "warnings.filterwarnings('ignore')"
      ],
      "execution_count": null,
      "outputs": []
    },
    {
      "cell_type": "markdown",
      "metadata": {
        "id": "8vxc8kyDTE0I"
      },
      "source": [
        "Problem Statement\r\n",
        "\r\n",
        "HR analytics is revolutionizing the way human resources departments operate, leading to higher efficiency and better results overall. Human resources have been using analytics for years.\r\n",
        "\r\n",
        "However, the collection, processing, and analysis of data have been largely manual, and given the nature of human resources dynamics and HR KPIs, the approach has been constraining HR. Therefore, it is surprising that HR departments woke up to the utility of machine learning so late in the game. Here is an opportunity to try predictive analytics in identifying the employees most likely to get promoted."
      ]
    },
    {
      "cell_type": "markdown",
      "metadata": {
        "id": "sZ1fN9sXZ42-"
      },
      "source": [
        "https://datahack.analyticsvidhya.com/contest/wns-analytics-hackathon-2018-1/#About\r\n"
      ]
    },
    {
      "cell_type": "markdown",
      "metadata": {
        "id": "6zuykeccaTus"
      },
      "source": [
        "Your client is a large MNC and they have 9 broad verticals across the organisation. One of the problem your client is facing is around identifying the right people for promotion (only for manager position and below) and prepare them in time. Currently the process, they are following is:\r\n",
        "\r\n",
        "They first identify a set of employees based on recommendations/ past performance\r\n",
        "Selected employees go through the separate training and evaluation program for each vertical. These programs are based on the required skill of each vertical\r\n",
        "At the end of the program, based on various factors such as training performance, KPI completion (only employees with KPIs completed greater than 60% are considered) etc., employee gets promotion\r\n",
        "For above mentioned process, the final promotions are only announced after the evaluation and this leads to delay in transition to their new roles. Hence, company needs your help in identifying the eligible candidates at a particular checkpoint so that they can expedite the entire promotion cycle. "
      ]
    },
    {
      "cell_type": "markdown",
      "metadata": {
        "id": "mMVf6RdRa56P"
      },
      "source": [
        "employee_id..\tUnique ID for employee\r\n",
        "department...\tDepartment of employee\r\n",
        "region...\tRegion of employment (unordered)\r\n",
        "education...\tEducation Level\r\n",
        "gender...\tGender of Employee\r\n",
        "recruitment_channel..\tChannel of recruitment for employee\r\n",
        "no_of_trainings...\tno of other trainings completed in previous year on soft skills, technical skills etc.\r\n",
        "age..\tAge of Employee\r\n",
        "previous_year_rating...\tEmployee Rating for the previous year\r\n",
        "length_of_service..\tLength of service in years\r\n",
        "KPIs_met >80%..\tif Percent of KPIs(Key performance Indicators) >80% then 1 else 0\r\n",
        "awards_won?..\tif awards won during previous year then 1 else 0\r\n",
        "avg_training_score..\tAverage score in current training evaluations\r\n",
        "is_promoted\t(Target).. Recommended for promotion\r\n",
        "\r\n",
        "Test data is further randomly divided into Public (40%) and Private (60%) data.\r\n",
        "\r\n",
        "Your initial responses will be checked and scored on the Public data.\r\n",
        "The final rankings would be based on your private score which will be published once the competition is over."
      ]
    },
    {
      "cell_type": "markdown",
      "metadata": {
        "id": "QSdCqi89bRok"
      },
      "source": [
        "Evaluation Metric\r\n",
        "\r\n",
        "The evaluation metric for this competition is F1 Score.\r\n",
        "\r\n",
        "\r\n"
      ]
    },
    {
      "cell_type": "code",
      "metadata": {
        "colab": {
          "base_uri": "https://localhost:8080/",
          "height": 287
        },
        "id": "E2B-NIFvaUsh",
        "outputId": "9330b37b-537b-41b2-ac0c-90bc11754095"
      },
      "source": [
        "train_HR = pd.read_csv('train_HR.csv')\r\n",
        "train_HR.head()"
      ],
      "execution_count": null,
      "outputs": [
        {
          "output_type": "execute_result",
          "data": {
            "text/html": [
              "<div>\n",
              "<style scoped>\n",
              "    .dataframe tbody tr th:only-of-type {\n",
              "        vertical-align: middle;\n",
              "    }\n",
              "\n",
              "    .dataframe tbody tr th {\n",
              "        vertical-align: top;\n",
              "    }\n",
              "\n",
              "    .dataframe thead th {\n",
              "        text-align: right;\n",
              "    }\n",
              "</style>\n",
              "<table border=\"1\" class=\"dataframe\">\n",
              "  <thead>\n",
              "    <tr style=\"text-align: right;\">\n",
              "      <th></th>\n",
              "      <th>employee_id</th>\n",
              "      <th>department</th>\n",
              "      <th>region</th>\n",
              "      <th>education</th>\n",
              "      <th>gender</th>\n",
              "      <th>recruitment_channel</th>\n",
              "      <th>no_of_trainings</th>\n",
              "      <th>age</th>\n",
              "      <th>previous_year_rating</th>\n",
              "      <th>length_of_service</th>\n",
              "      <th>KPIs_met &gt;80%</th>\n",
              "      <th>awards_won?</th>\n",
              "      <th>avg_training_score</th>\n",
              "      <th>is_promoted</th>\n",
              "    </tr>\n",
              "  </thead>\n",
              "  <tbody>\n",
              "    <tr>\n",
              "      <th>0</th>\n",
              "      <td>65438</td>\n",
              "      <td>Sales &amp; Marketing</td>\n",
              "      <td>region_7</td>\n",
              "      <td>Master's &amp; above</td>\n",
              "      <td>f</td>\n",
              "      <td>sourcing</td>\n",
              "      <td>1</td>\n",
              "      <td>35</td>\n",
              "      <td>5.0</td>\n",
              "      <td>8</td>\n",
              "      <td>1</td>\n",
              "      <td>0</td>\n",
              "      <td>49</td>\n",
              "      <td>0</td>\n",
              "    </tr>\n",
              "    <tr>\n",
              "      <th>1</th>\n",
              "      <td>65141</td>\n",
              "      <td>Operations</td>\n",
              "      <td>region_22</td>\n",
              "      <td>Bachelor's</td>\n",
              "      <td>m</td>\n",
              "      <td>other</td>\n",
              "      <td>1</td>\n",
              "      <td>30</td>\n",
              "      <td>5.0</td>\n",
              "      <td>4</td>\n",
              "      <td>0</td>\n",
              "      <td>0</td>\n",
              "      <td>60</td>\n",
              "      <td>0</td>\n",
              "    </tr>\n",
              "    <tr>\n",
              "      <th>2</th>\n",
              "      <td>7513</td>\n",
              "      <td>Sales &amp; Marketing</td>\n",
              "      <td>region_19</td>\n",
              "      <td>Bachelor's</td>\n",
              "      <td>m</td>\n",
              "      <td>sourcing</td>\n",
              "      <td>1</td>\n",
              "      <td>34</td>\n",
              "      <td>3.0</td>\n",
              "      <td>7</td>\n",
              "      <td>0</td>\n",
              "      <td>0</td>\n",
              "      <td>50</td>\n",
              "      <td>0</td>\n",
              "    </tr>\n",
              "    <tr>\n",
              "      <th>3</th>\n",
              "      <td>2542</td>\n",
              "      <td>Sales &amp; Marketing</td>\n",
              "      <td>region_23</td>\n",
              "      <td>Bachelor's</td>\n",
              "      <td>m</td>\n",
              "      <td>other</td>\n",
              "      <td>2</td>\n",
              "      <td>39</td>\n",
              "      <td>1.0</td>\n",
              "      <td>10</td>\n",
              "      <td>0</td>\n",
              "      <td>0</td>\n",
              "      <td>50</td>\n",
              "      <td>0</td>\n",
              "    </tr>\n",
              "    <tr>\n",
              "      <th>4</th>\n",
              "      <td>48945</td>\n",
              "      <td>Technology</td>\n",
              "      <td>region_26</td>\n",
              "      <td>Bachelor's</td>\n",
              "      <td>m</td>\n",
              "      <td>other</td>\n",
              "      <td>1</td>\n",
              "      <td>45</td>\n",
              "      <td>3.0</td>\n",
              "      <td>2</td>\n",
              "      <td>0</td>\n",
              "      <td>0</td>\n",
              "      <td>73</td>\n",
              "      <td>0</td>\n",
              "    </tr>\n",
              "  </tbody>\n",
              "</table>\n",
              "</div>"
            ],
            "text/plain": [
              "   employee_id         department  ... avg_training_score is_promoted\n",
              "0        65438  Sales & Marketing  ...                 49           0\n",
              "1        65141         Operations  ...                 60           0\n",
              "2         7513  Sales & Marketing  ...                 50           0\n",
              "3         2542  Sales & Marketing  ...                 50           0\n",
              "4        48945         Technology  ...                 73           0\n",
              "\n",
              "[5 rows x 14 columns]"
            ]
          },
          "metadata": {
            "tags": []
          },
          "execution_count": 2
        }
      ]
    },
    {
      "cell_type": "code",
      "metadata": {
        "colab": {
          "base_uri": "https://localhost:8080/",
          "height": 254
        },
        "id": "QhkUYv-oczNN",
        "outputId": "e8e6f52c-7af8-40f2-cafb-51cfc1d12e7c"
      },
      "source": [
        "# test data\r\n",
        "test_HR = pd.read_csv('test_HR.csv')\r\n",
        "test_HR.head()"
      ],
      "execution_count": null,
      "outputs": [
        {
          "output_type": "execute_result",
          "data": {
            "text/html": [
              "<div>\n",
              "<style scoped>\n",
              "    .dataframe tbody tr th:only-of-type {\n",
              "        vertical-align: middle;\n",
              "    }\n",
              "\n",
              "    .dataframe tbody tr th {\n",
              "        vertical-align: top;\n",
              "    }\n",
              "\n",
              "    .dataframe thead th {\n",
              "        text-align: right;\n",
              "    }\n",
              "</style>\n",
              "<table border=\"1\" class=\"dataframe\">\n",
              "  <thead>\n",
              "    <tr style=\"text-align: right;\">\n",
              "      <th></th>\n",
              "      <th>employee_id</th>\n",
              "      <th>department</th>\n",
              "      <th>region</th>\n",
              "      <th>education</th>\n",
              "      <th>gender</th>\n",
              "      <th>recruitment_channel</th>\n",
              "      <th>no_of_trainings</th>\n",
              "      <th>age</th>\n",
              "      <th>previous_year_rating</th>\n",
              "      <th>length_of_service</th>\n",
              "      <th>KPIs_met &gt;80%</th>\n",
              "      <th>awards_won?</th>\n",
              "      <th>avg_training_score</th>\n",
              "    </tr>\n",
              "  </thead>\n",
              "  <tbody>\n",
              "    <tr>\n",
              "      <th>0</th>\n",
              "      <td>8724</td>\n",
              "      <td>Technology</td>\n",
              "      <td>region_26</td>\n",
              "      <td>Bachelor's</td>\n",
              "      <td>m</td>\n",
              "      <td>sourcing</td>\n",
              "      <td>1</td>\n",
              "      <td>24</td>\n",
              "      <td>NaN</td>\n",
              "      <td>1</td>\n",
              "      <td>1</td>\n",
              "      <td>0</td>\n",
              "      <td>77</td>\n",
              "    </tr>\n",
              "    <tr>\n",
              "      <th>1</th>\n",
              "      <td>74430</td>\n",
              "      <td>HR</td>\n",
              "      <td>region_4</td>\n",
              "      <td>Bachelor's</td>\n",
              "      <td>f</td>\n",
              "      <td>other</td>\n",
              "      <td>1</td>\n",
              "      <td>31</td>\n",
              "      <td>3.0</td>\n",
              "      <td>5</td>\n",
              "      <td>0</td>\n",
              "      <td>0</td>\n",
              "      <td>51</td>\n",
              "    </tr>\n",
              "    <tr>\n",
              "      <th>2</th>\n",
              "      <td>72255</td>\n",
              "      <td>Sales &amp; Marketing</td>\n",
              "      <td>region_13</td>\n",
              "      <td>Bachelor's</td>\n",
              "      <td>m</td>\n",
              "      <td>other</td>\n",
              "      <td>1</td>\n",
              "      <td>31</td>\n",
              "      <td>1.0</td>\n",
              "      <td>4</td>\n",
              "      <td>0</td>\n",
              "      <td>0</td>\n",
              "      <td>47</td>\n",
              "    </tr>\n",
              "    <tr>\n",
              "      <th>3</th>\n",
              "      <td>38562</td>\n",
              "      <td>Procurement</td>\n",
              "      <td>region_2</td>\n",
              "      <td>Bachelor's</td>\n",
              "      <td>f</td>\n",
              "      <td>other</td>\n",
              "      <td>3</td>\n",
              "      <td>31</td>\n",
              "      <td>2.0</td>\n",
              "      <td>9</td>\n",
              "      <td>0</td>\n",
              "      <td>0</td>\n",
              "      <td>65</td>\n",
              "    </tr>\n",
              "    <tr>\n",
              "      <th>4</th>\n",
              "      <td>64486</td>\n",
              "      <td>Finance</td>\n",
              "      <td>region_29</td>\n",
              "      <td>Bachelor's</td>\n",
              "      <td>m</td>\n",
              "      <td>sourcing</td>\n",
              "      <td>1</td>\n",
              "      <td>30</td>\n",
              "      <td>4.0</td>\n",
              "      <td>7</td>\n",
              "      <td>0</td>\n",
              "      <td>0</td>\n",
              "      <td>61</td>\n",
              "    </tr>\n",
              "  </tbody>\n",
              "</table>\n",
              "</div>"
            ],
            "text/plain": [
              "   employee_id         department  ... awards_won? avg_training_score\n",
              "0         8724         Technology  ...           0                 77\n",
              "1        74430                 HR  ...           0                 51\n",
              "2        72255  Sales & Marketing  ...           0                 47\n",
              "3        38562        Procurement  ...           0                 65\n",
              "4        64486            Finance  ...           0                 61\n",
              "\n",
              "[5 rows x 13 columns]"
            ]
          },
          "metadata": {
            "tags": []
          },
          "execution_count": 3
        }
      ]
    },
    {
      "cell_type": "code",
      "metadata": {
        "colab": {
          "base_uri": "https://localhost:8080/"
        },
        "id": "dRoXIWDGdL-t",
        "outputId": "c3c23bbc-1b26-4149-d9d6-0fbdbd62be1c"
      },
      "source": [
        "# shape of train and test data\r\n",
        "train_HR.shape,test_HR.shape"
      ],
      "execution_count": null,
      "outputs": [
        {
          "output_type": "execute_result",
          "data": {
            "text/plain": [
              "((54808, 14), (23490, 13))"
            ]
          },
          "metadata": {
            "tags": []
          },
          "execution_count": 4
        }
      ]
    },
    {
      "cell_type": "code",
      "metadata": {
        "colab": {
          "base_uri": "https://localhost:8080/"
        },
        "id": "JxAlrwJgdXYP",
        "outputId": "f869d5fb-6fb5-41a6-8262-58d7d328565a"
      },
      "source": [
        "# data type of columns and overview \r\n",
        "train_HR.info()"
      ],
      "execution_count": null,
      "outputs": [
        {
          "output_type": "stream",
          "text": [
            "<class 'pandas.core.frame.DataFrame'>\n",
            "RangeIndex: 54808 entries, 0 to 54807\n",
            "Data columns (total 14 columns):\n",
            " #   Column                Non-Null Count  Dtype  \n",
            "---  ------                --------------  -----  \n",
            " 0   employee_id           54808 non-null  int64  \n",
            " 1   department            54808 non-null  object \n",
            " 2   region                54808 non-null  object \n",
            " 3   education             52399 non-null  object \n",
            " 4   gender                54808 non-null  object \n",
            " 5   recruitment_channel   54808 non-null  object \n",
            " 6   no_of_trainings       54808 non-null  int64  \n",
            " 7   age                   54808 non-null  int64  \n",
            " 8   previous_year_rating  50684 non-null  float64\n",
            " 9   length_of_service     54808 non-null  int64  \n",
            " 10  KPIs_met >80%         54808 non-null  int64  \n",
            " 11  awards_won?           54808 non-null  int64  \n",
            " 12  avg_training_score    54808 non-null  int64  \n",
            " 13  is_promoted           54808 non-null  int64  \n",
            "dtypes: float64(1), int64(8), object(5)\n",
            "memory usage: 5.9+ MB\n"
          ],
          "name": "stdout"
        }
      ]
    },
    {
      "cell_type": "code",
      "metadata": {
        "colab": {
          "base_uri": "https://localhost:8080/"
        },
        "id": "DjrjwIz7df5U",
        "outputId": "0f66f0a9-127f-4dc5-c2f6-7304f2fb5be3"
      },
      "source": [
        "test_HR.info()"
      ],
      "execution_count": null,
      "outputs": [
        {
          "output_type": "stream",
          "text": [
            "<class 'pandas.core.frame.DataFrame'>\n",
            "RangeIndex: 23490 entries, 0 to 23489\n",
            "Data columns (total 13 columns):\n",
            " #   Column                Non-Null Count  Dtype  \n",
            "---  ------                --------------  -----  \n",
            " 0   employee_id           23490 non-null  int64  \n",
            " 1   department            23490 non-null  object \n",
            " 2   region                23490 non-null  object \n",
            " 3   education             22456 non-null  object \n",
            " 4   gender                23490 non-null  object \n",
            " 5   recruitment_channel   23490 non-null  object \n",
            " 6   no_of_trainings       23490 non-null  int64  \n",
            " 7   age                   23490 non-null  int64  \n",
            " 8   previous_year_rating  21678 non-null  float64\n",
            " 9   length_of_service     23490 non-null  int64  \n",
            " 10  KPIs_met >80%         23490 non-null  int64  \n",
            " 11  awards_won?           23490 non-null  int64  \n",
            " 12  avg_training_score    23490 non-null  int64  \n",
            "dtypes: float64(1), int64(7), object(5)\n",
            "memory usage: 2.3+ MB\n"
          ],
          "name": "stdout"
        }
      ]
    },
    {
      "cell_type": "code",
      "metadata": {
        "colab": {
          "base_uri": "https://localhost:8080/"
        },
        "id": "YixgHUNidlbe",
        "outputId": "e7e00e5e-1997-49d2-ea5f-340ec86e174b"
      },
      "source": [
        "# we will focus on train data for preprocessing and subsequently apply of test data\r\n",
        "#how is the target column distributed\r\n",
        "train_HR.is_promoted.value_counts()"
      ],
      "execution_count": null,
      "outputs": [
        {
          "output_type": "execute_result",
          "data": {
            "text/plain": [
              "0    50140\n",
              "1     4668\n",
              "Name: is_promoted, dtype: int64"
            ]
          },
          "metadata": {
            "tags": []
          },
          "execution_count": 7
        }
      ]
    },
    {
      "cell_type": "markdown",
      "metadata": {
        "id": "_IQqiwpAeLEU"
      },
      "source": [
        "The target column is imbalanced and needs to be taken care of prior model building"
      ]
    },
    {
      "cell_type": "code",
      "metadata": {
        "colab": {
          "base_uri": "https://localhost:8080/"
        },
        "id": "cXxTBviTeIPg",
        "outputId": "9dca0fc4-74f3-48a3-8ae6-e54f532891ec"
      },
      "source": [
        "# look at missing values\r\n",
        "train_HR.isnull().sum()"
      ],
      "execution_count": null,
      "outputs": [
        {
          "output_type": "execute_result",
          "data": {
            "text/plain": [
              "employee_id                0\n",
              "department                 0\n",
              "region                     0\n",
              "education               2409\n",
              "gender                     0\n",
              "recruitment_channel        0\n",
              "no_of_trainings            0\n",
              "age                        0\n",
              "previous_year_rating    4124\n",
              "length_of_service          0\n",
              "KPIs_met >80%              0\n",
              "awards_won?                0\n",
              "avg_training_score         0\n",
              "is_promoted                0\n",
              "dtype: int64"
            ]
          },
          "metadata": {
            "tags": []
          },
          "execution_count": 8
        }
      ]
    },
    {
      "cell_type": "code",
      "metadata": {
        "colab": {
          "base_uri": "https://localhost:8080/"
        },
        "id": "hBrOIDWEfq9A",
        "outputId": "b6c0dcd2-8d9b-40d5-ebc1-0bbc9f16ddf6"
      },
      "source": [
        "# % missing values in education and rating\r\n",
        "print('% Missing values in Education',(train_HR.education.isnull().sum()/train_HR.shape[0])*100)\r\n",
        "print('% Missing values in previous_year_rating',(train_HR.previous_year_rating.isnull().sum()/train_HR.shape[0])*100)"
      ],
      "execution_count": null,
      "outputs": [
        {
          "output_type": "stream",
          "text": [
            "% Missing values in Education 4.395343745438622\n",
            "% Missing values in previous_year_rating 7.524448985549554\n"
          ],
          "name": "stdout"
        }
      ]
    },
    {
      "cell_type": "markdown",
      "metadata": {
        "id": "rdobqSN9fjap"
      },
      "source": [
        "The columns education and prev year rating has missing values "
      ]
    },
    {
      "cell_type": "code",
      "metadata": {
        "colab": {
          "base_uri": "https://localhost:8080/"
        },
        "id": "TJB-YUE8fdo5",
        "outputId": "3ad5f608-1266-4aa8-aadf-c2682cb4742c"
      },
      "source": [
        "# looking at education column closely\r\n",
        "train_HR.education.unique()"
      ],
      "execution_count": null,
      "outputs": [
        {
          "output_type": "execute_result",
          "data": {
            "text/plain": [
              "array([\"Master's & above\", \"Bachelor's\", nan, 'Below Secondary'],\n",
              "      dtype=object)"
            ]
          },
          "metadata": {
            "tags": []
          },
          "execution_count": 10
        }
      ]
    },
    {
      "cell_type": "code",
      "metadata": {
        "colab": {
          "base_uri": "https://localhost:8080/"
        },
        "id": "eucB_SDnib2a",
        "outputId": "4d989068-4fd0-49c0-9914-60d51f7af5f4"
      },
      "source": [
        "train_HR.education.value_counts()"
      ],
      "execution_count": null,
      "outputs": [
        {
          "output_type": "execute_result",
          "data": {
            "text/plain": [
              "Bachelor's          36669\n",
              "Master's & above    14925\n",
              "Below Secondary       805\n",
              "Name: education, dtype: int64"
            ]
          },
          "metadata": {
            "tags": []
          },
          "execution_count": 11
        }
      ]
    },
    {
      "cell_type": "code",
      "metadata": {
        "id": "A4UEE1j4i2JB"
      },
      "source": [
        "#we will use mode of the feature to impute missing columns\r\n",
        "train_HR['education'].fillna(\"Bachelor's'\",inplace=True)"
      ],
      "execution_count": null,
      "outputs": []
    },
    {
      "cell_type": "code",
      "metadata": {
        "colab": {
          "base_uri": "https://localhost:8080/"
        },
        "id": "fK4tc_wnjYc8",
        "outputId": "fc8f689d-c45f-4475-bf9f-ce35c4dfcabf"
      },
      "source": [
        "# looking at prev year rating\r\n",
        "train_HR['previous_year_rating'].describe()"
      ],
      "execution_count": null,
      "outputs": [
        {
          "output_type": "execute_result",
          "data": {
            "text/plain": [
              "count    50684.000000\n",
              "mean         3.329256\n",
              "std          1.259993\n",
              "min          1.000000\n",
              "25%          3.000000\n",
              "50%          3.000000\n",
              "75%          4.000000\n",
              "max          5.000000\n",
              "Name: previous_year_rating, dtype: float64"
            ]
          },
          "metadata": {
            "tags": []
          },
          "execution_count": 13
        }
      ]
    },
    {
      "cell_type": "markdown",
      "metadata": {
        "id": "hwzBwToejxKP"
      },
      "source": [
        "The data seems minor skew to right . We will use median for imputing missing values"
      ]
    },
    {
      "cell_type": "code",
      "metadata": {
        "id": "LUzgfgi9jnz5"
      },
      "source": [
        "#using median value of prev year rating to fillna\r\n",
        "rating_imp = train_HR['previous_year_rating'].median()\r\n",
        "train_HR['previous_year_rating'].fillna(rating_imp,inplace=True)"
      ],
      "execution_count": null,
      "outputs": []
    },
    {
      "cell_type": "code",
      "metadata": {
        "colab": {
          "base_uri": "https://localhost:8080/"
        },
        "id": "sKqUmjZQlF4p",
        "outputId": "46801a7d-60a9-47b3-f925-a87022e6a8a1"
      },
      "source": [
        "train_HR.isnull().sum()"
      ],
      "execution_count": null,
      "outputs": [
        {
          "output_type": "execute_result",
          "data": {
            "text/plain": [
              "employee_id             0\n",
              "department              0\n",
              "region                  0\n",
              "education               0\n",
              "gender                  0\n",
              "recruitment_channel     0\n",
              "no_of_trainings         0\n",
              "age                     0\n",
              "previous_year_rating    0\n",
              "length_of_service       0\n",
              "KPIs_met >80%           0\n",
              "awards_won?             0\n",
              "avg_training_score      0\n",
              "is_promoted             0\n",
              "dtype: int64"
            ]
          },
          "metadata": {
            "tags": []
          },
          "execution_count": 15
        }
      ]
    },
    {
      "cell_type": "markdown",
      "metadata": {
        "id": "EVFo2rbclMLy"
      },
      "source": [
        "No missing values in traing dataset"
      ]
    },
    {
      "cell_type": "code",
      "metadata": {
        "colab": {
          "base_uri": "https://localhost:8080/"
        },
        "id": "9F0-mGUYlKhQ",
        "outputId": "619051da-021a-4817-b058-41ed86c8becb"
      },
      "source": [
        "train_HR.columns"
      ],
      "execution_count": null,
      "outputs": [
        {
          "output_type": "execute_result",
          "data": {
            "text/plain": [
              "Index(['employee_id', 'department', 'region', 'education', 'gender',\n",
              "       'recruitment_channel', 'no_of_trainings', 'age', 'previous_year_rating',\n",
              "       'length_of_service', 'KPIs_met >80%', 'awards_won?',\n",
              "       'avg_training_score', 'is_promoted'],\n",
              "      dtype='object')"
            ]
          },
          "metadata": {
            "tags": []
          },
          "execution_count": 16
        }
      ]
    },
    {
      "cell_type": "code",
      "metadata": {
        "colab": {
          "base_uri": "https://localhost:8080/"
        },
        "id": "3vN2Ce7Brgtu",
        "outputId": "16755776-43a4-42a1-dd7c-76ff10ed9a53"
      },
      "source": [
        "# lets look at numeric attributes \r\n",
        "train_HR['no_of_trainings'].describe()"
      ],
      "execution_count": null,
      "outputs": [
        {
          "output_type": "execute_result",
          "data": {
            "text/plain": [
              "count    54808.000000\n",
              "mean         1.253011\n",
              "std          0.609264\n",
              "min          1.000000\n",
              "25%          1.000000\n",
              "50%          1.000000\n",
              "75%          1.000000\n",
              "max         10.000000\n",
              "Name: no_of_trainings, dtype: float64"
            ]
          },
          "metadata": {
            "tags": []
          },
          "execution_count": 17
        }
      ]
    },
    {
      "cell_type": "markdown",
      "metadata": {
        "id": "5KuFoyulsSpx"
      },
      "source": [
        "Min and Max val of 1 and 10 respectively. The data is skewed to right"
      ]
    },
    {
      "cell_type": "code",
      "metadata": {
        "colab": {
          "base_uri": "https://localhost:8080/",
          "height": 280
        },
        "id": "sKJT7v89sOhu",
        "outputId": "14761f37-be3b-44ca-dbdc-0a063c9a24ec"
      },
      "source": [
        "#histogram of train_HR['no_of_trainings']\r\n",
        "sns.histplot(train_HR['no_of_trainings'],color='green')\r\n",
        "plt.show()"
      ],
      "execution_count": null,
      "outputs": [
        {
          "output_type": "display_data",
          "data": {
            "image/png": "[encoded data removed]",
            "text/plain": [
              "<Figure size 432x288 with 1 Axes>"
            ]
          },
          "metadata": {
            "tags": [],
            "needs_background": "light"
          }
        }
      ]
    },
    {
      "cell_type": "code",
      "metadata": {
        "colab": {
          "base_uri": "https://localhost:8080/",
          "height": 280
        },
        "id": "EUv__xqGyAld",
        "outputId": "ba4f73e8-220c-446a-ae6e-c5f98717499d"
      },
      "source": [
        "sns.boxplot(y=train_HR['no_of_trainings'],x=train_HR['is_promoted'],color='green')\r\n",
        "plt.show()"
      ],
      "execution_count": null,
      "outputs": [
        {
          "output_type": "display_data",
          "data": {
            "image/png": "[encoded data removed]",
            "text/plain": [
              "<Figure size 432x288 with 1 Axes>"
            ]
          },
          "metadata": {
            "tags": [],
            "needs_background": "light"
          }
        }
      ]
    },
    {
      "cell_type": "code",
      "metadata": {
        "colab": {
          "base_uri": "https://localhost:8080/"
        },
        "id": "DmMlldwC1eBQ",
        "outputId": "e9efe884-a8da-4828-bf99-d3af1e03ff09"
      },
      "source": [
        "#lets look at extreme values distribution\r\n",
        "for i in range(4,11):\r\n",
        "  print(i,train_HR[train_HR['no_of_trainings']==i].shape[0])"
      ],
      "execution_count": null,
      "outputs": [
        {
          "output_type": "stream",
          "text": [
            "4 468\n",
            "5 128\n",
            "6 44\n",
            "7 12\n",
            "8 5\n",
            "9 5\n",
            "10 5\n"
          ],
          "name": "stdout"
        }
      ]
    },
    {
      "cell_type": "markdown",
      "metadata": {
        "id": "S4ib1XCM2iKt"
      },
      "source": [
        "The most of training are 1 and a few cases are beyond 1 indicative of outlier. We will out these values in bins (sort of discrete values)"
      ]
    },
    {
      "cell_type": "code",
      "metadata": {
        "colab": {
          "base_uri": "https://localhost:8080/",
          "height": 287
        },
        "id": "51hgKXgG14eD",
        "outputId": "900b0eb8-0185-4ec9-ee4a-a75493ce4aad"
      },
      "source": [
        "#using cut to discretize\r\n",
        "train_HR['no_trg_bin'] = pd.cut(train_HR['no_of_trainings'],bins=[0,1,2,10], precision=0,labels=['One','Two,','More_than_2'])\r\n",
        "train_HR.drop(columns='no_of_trainings',axis=1,inplace=True)\r\n",
        "train_HR.head()"
      ],
      "execution_count": null,
      "outputs": [
        {
          "output_type": "execute_result",
          "data": {
            "text/html": [
              "<div>\n",
              "<style scoped>\n",
              "    .dataframe tbody tr th:only-of-type {\n",
              "        vertical-align: middle;\n",
              "    }\n",
              "\n",
              "    .dataframe tbody tr th {\n",
              "        vertical-align: top;\n",
              "    }\n",
              "\n",
              "    .dataframe thead th {\n",
              "        text-align: right;\n",
              "    }\n",
              "</style>\n",
              "<table border=\"1\" class=\"dataframe\">\n",
              "  <thead>\n",
              "    <tr style=\"text-align: right;\">\n",
              "      <th></th>\n",
              "      <th>employee_id</th>\n",
              "      <th>department</th>\n",
              "      <th>region</th>\n",
              "      <th>education</th>\n",
              "      <th>gender</th>\n",
              "      <th>recruitment_channel</th>\n",
              "      <th>age</th>\n",
              "      <th>previous_year_rating</th>\n",
              "      <th>length_of_service</th>\n",
              "      <th>KPIs_met &gt;80%</th>\n",
              "      <th>awards_won?</th>\n",
              "      <th>avg_training_score</th>\n",
              "      <th>is_promoted</th>\n",
              "      <th>no_trg_bin</th>\n",
              "    </tr>\n",
              "  </thead>\n",
              "  <tbody>\n",
              "    <tr>\n",
              "      <th>0</th>\n",
              "      <td>65438</td>\n",
              "      <td>Sales &amp; Marketing</td>\n",
              "      <td>region_7</td>\n",
              "      <td>Master's &amp; above</td>\n",
              "      <td>f</td>\n",
              "      <td>sourcing</td>\n",
              "      <td>35</td>\n",
              "      <td>5.0</td>\n",
              "      <td>8</td>\n",
              "      <td>1</td>\n",
              "      <td>0</td>\n",
              "      <td>49</td>\n",
              "      <td>0</td>\n",
              "      <td>One</td>\n",
              "    </tr>\n",
              "    <tr>\n",
              "      <th>1</th>\n",
              "      <td>65141</td>\n",
              "      <td>Operations</td>\n",
              "      <td>region_22</td>\n",
              "      <td>Bachelor's</td>\n",
              "      <td>m</td>\n",
              "      <td>other</td>\n",
              "      <td>30</td>\n",
              "      <td>5.0</td>\n",
              "      <td>4</td>\n",
              "      <td>0</td>\n",
              "      <td>0</td>\n",
              "      <td>60</td>\n",
              "      <td>0</td>\n",
              "      <td>One</td>\n",
              "    </tr>\n",
              "    <tr>\n",
              "      <th>2</th>\n",
              "      <td>7513</td>\n",
              "      <td>Sales &amp; Marketing</td>\n",
              "      <td>region_19</td>\n",
              "      <td>Bachelor's</td>\n",
              "      <td>m</td>\n",
              "      <td>sourcing</td>\n",
              "      <td>34</td>\n",
              "      <td>3.0</td>\n",
              "      <td>7</td>\n",
              "      <td>0</td>\n",
              "      <td>0</td>\n",
              "      <td>50</td>\n",
              "      <td>0</td>\n",
              "      <td>One</td>\n",
              "    </tr>\n",
              "    <tr>\n",
              "      <th>3</th>\n",
              "      <td>2542</td>\n",
              "      <td>Sales &amp; Marketing</td>\n",
              "      <td>region_23</td>\n",
              "      <td>Bachelor's</td>\n",
              "      <td>m</td>\n",
              "      <td>other</td>\n",
              "      <td>39</td>\n",
              "      <td>1.0</td>\n",
              "      <td>10</td>\n",
              "      <td>0</td>\n",
              "      <td>0</td>\n",
              "      <td>50</td>\n",
              "      <td>0</td>\n",
              "      <td>Two,</td>\n",
              "    </tr>\n",
              "    <tr>\n",
              "      <th>4</th>\n",
              "      <td>48945</td>\n",
              "      <td>Technology</td>\n",
              "      <td>region_26</td>\n",
              "      <td>Bachelor's</td>\n",
              "      <td>m</td>\n",
              "      <td>other</td>\n",
              "      <td>45</td>\n",
              "      <td>3.0</td>\n",
              "      <td>2</td>\n",
              "      <td>0</td>\n",
              "      <td>0</td>\n",
              "      <td>73</td>\n",
              "      <td>0</td>\n",
              "      <td>One</td>\n",
              "    </tr>\n",
              "  </tbody>\n",
              "</table>\n",
              "</div>"
            ],
            "text/plain": [
              "   employee_id         department  ... is_promoted no_trg_bin\n",
              "0        65438  Sales & Marketing  ...           0        One\n",
              "1        65141         Operations  ...           0        One\n",
              "2         7513  Sales & Marketing  ...           0        One\n",
              "3         2542  Sales & Marketing  ...           0       Two,\n",
              "4        48945         Technology  ...           0        One\n",
              "\n",
              "[5 rows x 14 columns]"
            ]
          },
          "metadata": {
            "tags": []
          },
          "execution_count": 21
        }
      ]
    },
    {
      "cell_type": "code",
      "metadata": {
        "colab": {
          "base_uri": "https://localhost:8080/"
        },
        "id": "DQ4cIK-33-hO",
        "outputId": "9a0afe41-a118-414e-8337-df6aade65775"
      },
      "source": [
        "train_HR['no_trg_bin'].value_counts()"
      ],
      "execution_count": null,
      "outputs": [
        {
          "output_type": "execute_result",
          "data": {
            "text/plain": [
              "One            44378\n",
              "Two,            7987\n",
              "More_than_2     2443\n",
              "Name: no_trg_bin, dtype: int64"
            ]
          },
          "metadata": {
            "tags": []
          },
          "execution_count": 22
        }
      ]
    },
    {
      "cell_type": "code",
      "metadata": {
        "colab": {
          "base_uri": "https://localhost:8080/",
          "height": 281
        },
        "id": "46Fz2H5s8nqq",
        "outputId": "fec40c22-feb9-4b7e-f76e-983f0aa0e82b"
      },
      "source": [
        "# look at the distribution with target col\r\n",
        "sns.countplot(hue=train_HR['is_promoted'],x=train_HR['no_trg_bin'])\r\n",
        "plt.show()"
      ],
      "execution_count": null,
      "outputs": [
        {
          "output_type": "display_data",
          "data": {
            "image/png": "[encoded data removed]",
            "text/plain": [
              "<Figure size 432x288 with 1 Axes>"
            ]
          },
          "metadata": {
            "tags": [],
            "needs_background": "light"
          }
        }
      ]
    },
    {
      "cell_type": "markdown",
      "metadata": {
        "id": "PmTaA9tA9lL9"
      },
      "source": [
        "The maximum number of people have done only one trg . "
      ]
    },
    {
      "cell_type": "code",
      "metadata": {
        "colab": {
          "base_uri": "https://localhost:8080/",
          "height": 170
        },
        "id": "11sg2hyw9Pmx",
        "outputId": "5673f5d5-8f41-43ee-b124-5885c90a92dd"
      },
      "source": [
        "#checking the assiciation between this attribite and target variabe\r\n",
        "pd.crosstab(train_HR['no_trg_bin'],train_HR['is_promoted'])"
      ],
      "execution_count": null,
      "outputs": [
        {
          "output_type": "execute_result",
          "data": {
            "text/html": [
              "<div>\n",
              "<style scoped>\n",
              "    .dataframe tbody tr th:only-of-type {\n",
              "        vertical-align: middle;\n",
              "    }\n",
              "\n",
              "    .dataframe tbody tr th {\n",
              "        vertical-align: top;\n",
              "    }\n",
              "\n",
              "    .dataframe thead th {\n",
              "        text-align: right;\n",
              "    }\n",
              "</style>\n",
              "<table border=\"1\" class=\"dataframe\">\n",
              "  <thead>\n",
              "    <tr style=\"text-align: right;\">\n",
              "      <th>is_promoted</th>\n",
              "      <th>0</th>\n",
              "      <th>1</th>\n",
              "    </tr>\n",
              "    <tr>\n",
              "      <th>no_trg_bin</th>\n",
              "      <th></th>\n",
              "      <th></th>\n",
              "    </tr>\n",
              "  </thead>\n",
              "  <tbody>\n",
              "    <tr>\n",
              "      <th>One</th>\n",
              "      <td>40468</td>\n",
              "      <td>3910</td>\n",
              "    </tr>\n",
              "    <tr>\n",
              "      <th>Two,</th>\n",
              "      <td>7382</td>\n",
              "      <td>605</td>\n",
              "    </tr>\n",
              "    <tr>\n",
              "      <th>More_than_2</th>\n",
              "      <td>2290</td>\n",
              "      <td>153</td>\n",
              "    </tr>\n",
              "  </tbody>\n",
              "</table>\n",
              "</div>"
            ],
            "text/plain": [
              "is_promoted      0     1\n",
              "no_trg_bin              \n",
              "One          40468  3910\n",
              "Two,          7382   605\n",
              "More_than_2   2290   153"
            ]
          },
          "metadata": {
            "tags": []
          },
          "execution_count": 24
        }
      ]
    },
    {
      "cell_type": "code",
      "metadata": {
        "colab": {
          "base_uri": "https://localhost:8080/"
        },
        "id": "OtS7e3jb-Bwy",
        "outputId": "68e2f0df-bbe5-4d63-997d-afb4cff57e6b"
      },
      "source": [
        "from scipy.stats import chi2_contingency\r\n",
        "\r\n",
        "table = np.array([[40468,3910],[7382,605],[2290,153]])\r\n",
        "chi2_contingency(table)"
      ],
      "execution_count": null,
      "outputs": [
        {
          "output_type": "execute_result",
          "data": {
            "text/plain": [
              "(29.94444420451088,\n",
              " 3.1451876317381095e-07,\n",
              " 2,\n",
              " array([[40598.32360239,  3779.67639761],\n",
              "        [ 7306.74682528,   680.25317472],\n",
              "        [ 2234.92957233,   208.07042767]]))"
            ]
          },
          "metadata": {
            "tags": []
          },
          "execution_count": 25
        }
      ]
    },
    {
      "cell_type": "markdown",
      "metadata": {
        "id": "6eaa8lkiAKHz"
      },
      "source": [
        "Since p value is small there is an association at 95% confidence(reject Ho)"
      ]
    },
    {
      "cell_type": "code",
      "metadata": {
        "id": "FHLl0rDl_Vbv"
      },
      "source": [
        "#test set processing\r\n",
        "#missing value imputing\r\n",
        "test_HR['education'].fillna(\"Bachelor's'\",inplace=True)\r\n",
        "test_HR['previous_year_rating'].fillna(rating_imp,inplace=True)"
      ],
      "execution_count": null,
      "outputs": []
    },
    {
      "cell_type": "code",
      "metadata": {
        "id": "P2_dwG5YBBxF"
      },
      "source": [
        "#pre-processing no of training attribute\r\n",
        "test_HR['no_trg_bin'] = pd.cut(test_HR['no_of_trainings'],bins=[0,1,2,10], precision=0,labels=['One','Two,','More_than_2'])\r\n",
        "test_HR.drop(columns='no_of_trainings',axis=1,inplace=True)"
      ],
      "execution_count": null,
      "outputs": []
    },
    {
      "cell_type": "markdown",
      "metadata": {
        "id": "qolH4nBrB_Cp"
      },
      "source": [
        "**Examining Age attribute**"
      ]
    },
    {
      "cell_type": "code",
      "metadata": {
        "colab": {
          "base_uri": "https://localhost:8080/"
        },
        "id": "cOhraLPZBv0b",
        "outputId": "fecbbcc3-ab5b-478a-d558-cda887e7f1a1"
      },
      "source": [
        "train_HR['age'].describe()"
      ],
      "execution_count": null,
      "outputs": [
        {
          "output_type": "execute_result",
          "data": {
            "text/plain": [
              "count    54808.000000\n",
              "mean        34.803915\n",
              "std          7.660169\n",
              "min         20.000000\n",
              "25%         29.000000\n",
              "50%         33.000000\n",
              "75%         39.000000\n",
              "max         60.000000\n",
              "Name: age, dtype: float64"
            ]
          },
          "metadata": {
            "tags": []
          },
          "execution_count": 28
        }
      ]
    },
    {
      "cell_type": "code",
      "metadata": {
        "colab": {
          "base_uri": "https://localhost:8080/",
          "height": 279
        },
        "id": "opkbJGm_CIZ2",
        "outputId": "b78a511e-e01f-4711-affa-3b031a99894e"
      },
      "source": [
        "# lets plot histogram\r\n",
        "sns.histplot(train_HR['age'],color='green')\r\n",
        "plt.show()"
      ],
      "execution_count": null,
      "outputs": [
        {
          "output_type": "display_data",
          "data": {
            "image/png": "[encoded data removed]",
            "text/plain": [
              "<Figure size 432x288 with 1 Axes>"
            ]
          },
          "metadata": {
            "tags": [],
            "needs_background": "light"
          }
        }
      ]
    },
    {
      "cell_type": "code",
      "metadata": {
        "colab": {
          "base_uri": "https://localhost:8080/",
          "height": 252
        },
        "id": "a-r4Ov57CW4l",
        "outputId": "39139e75-4302-4466-ad59-76e9c955df8b"
      },
      "source": [
        "sns.boxplot(y=train_HR['age'],color='green')\r\n",
        "plt.show()"
      ],
      "execution_count": null,
      "outputs": [
        {
          "output_type": "display_data",
          "data": {
            "image/png": "[encoded data removed]",
            "text/plain": [
              "<Figure size 432x288 with 1 Axes>"
            ]
          },
          "metadata": {
            "tags": [],
            "needs_background": "light"
          }
        }
      ]
    },
    {
      "cell_type": "markdown",
      "metadata": {
        "id": "rEpFXE92CxYL"
      },
      "source": [
        "The data is right skewed . Taking a log transformation can improve normality"
      ]
    },
    {
      "cell_type": "code",
      "metadata": {
        "id": "rARy0EmsCqeS"
      },
      "source": [
        "train_HR['age']= np.log(train_HR['age'])"
      ],
      "execution_count": null,
      "outputs": []
    },
    {
      "cell_type": "code",
      "metadata": {
        "colab": {
          "base_uri": "https://localhost:8080/",
          "height": 279
        },
        "id": "CyHls24aDFv8",
        "outputId": "8b51889b-a463-43db-8767-e962aee482c5"
      },
      "source": [
        "sns.histplot(train_HR['age'],color='green')\r\n",
        "plt.show()"
      ],
      "execution_count": null,
      "outputs": [
        {
          "output_type": "display_data",
          "data": {
            "image/png": "[encoded data removed]",
            "text/plain": [
              "<Figure size 432x288 with 1 Axes>"
            ]
          },
          "metadata": {
            "tags": [],
            "needs_background": "light"
          }
        }
      ]
    },
    {
      "cell_type": "code",
      "metadata": {
        "colab": {
          "base_uri": "https://localhost:8080/",
          "height": 280
        },
        "id": "iVhUEzuEDJeG",
        "outputId": "224bf98f-c9c5-437a-d8b7-1c080d13b82c"
      },
      "source": [
        "fig, (ax1, ax2) = plt.subplots(ncols=2, sharey=True)\r\n",
        "\r\n",
        "sns.boxplot(y=train_HR['age'],color='green',ax=ax1)\r\n",
        "sns.boxplot(y=train_HR['age'],x=train_HR['is_promoted'],color='green',ax=ax2)\r\n",
        "plt.show()"
      ],
      "execution_count": null,
      "outputs": [
        {
          "output_type": "display_data",
          "data": {
            "image/png": "[encoded data removed]",
            "text/plain": [
              "<Figure size 432x288 with 2 Axes>"
            ]
          },
          "metadata": {
            "tags": [],
            "needs_background": "light"
          }
        }
      ]
    },
    {
      "cell_type": "markdown",
      "metadata": {
        "id": "SRzOOuDEDStS"
      },
      "source": [
        "The age attribute looks ok now"
      ]
    },
    {
      "cell_type": "markdown",
      "metadata": {
        "id": "SOpDSNKBf1Lf"
      },
      "source": [
        "# Binning the age column\r\n",
        "\r\n",
        "df['age'] = pd.cut(x=df['age'], bins=[20, 29, 39, 49], \r\n",
        "                    labels=['20 to 30', '30 to 40', '40+']) \r\n",
        "# Changing datatype 'category' to 'object'\r\n",
        "\r\n",
        "df['age'] = df['age'].astype('object')"
      ]
    },
    {
      "cell_type": "code",
      "metadata": {
        "id": "tmqIgMoLDQ7s"
      },
      "source": [
        "# applying log transformation of test data\r\n",
        "test_HR['age']= np.log(test_HR['age'])"
      ],
      "execution_count": null,
      "outputs": []
    },
    {
      "cell_type": "markdown",
      "metadata": {
        "id": "ncvXb7vIFQtv"
      },
      "source": [
        "**Examining Previous year rating attribute**"
      ]
    },
    {
      "cell_type": "code",
      "metadata": {
        "colab": {
          "base_uri": "https://localhost:8080/"
        },
        "id": "1LSUU2vJE29p",
        "outputId": "a6af6feb-e5e3-4b01-8d30-a057d92e20e5"
      },
      "source": [
        "train_HR['previous_year_rating'].describe()"
      ],
      "execution_count": null,
      "outputs": [
        {
          "output_type": "execute_result",
          "data": {
            "text/plain": [
              "count    54808.000000\n",
              "mean         3.304481\n",
              "std          1.214770\n",
              "min          1.000000\n",
              "25%          3.000000\n",
              "50%          3.000000\n",
              "75%          4.000000\n",
              "max          5.000000\n",
              "Name: previous_year_rating, dtype: float64"
            ]
          },
          "metadata": {
            "tags": []
          },
          "execution_count": 35
        }
      ]
    },
    {
      "cell_type": "code",
      "metadata": {
        "colab": {
          "base_uri": "https://localhost:8080/",
          "height": 280
        },
        "id": "eRsPLmDEFZTk",
        "outputId": "526c86e5-3645-42bc-9fc4-eda65fe5fcd5"
      },
      "source": [
        "# lets plot histogram of prev year rating\r\n",
        "sns.histplot(train_HR['previous_year_rating'],color='green')\r\n",
        "plt.show()"
      ],
      "execution_count": null,
      "outputs": [
        {
          "output_type": "display_data",
          "data": {
            "image/png": "[encoded data removed]",
            "text/plain": [
              "<Figure size 432x288 with 1 Axes>"
            ]
          },
          "metadata": {
            "tags": [],
            "needs_background": "light"
          }
        }
      ]
    },
    {
      "cell_type": "code",
      "metadata": {
        "colab": {
          "base_uri": "https://localhost:8080/",
          "height": 280
        },
        "id": "Fe7DzaEXhu06",
        "outputId": "0c319dd1-85a5-4121-cc33-79782b463222"
      },
      "source": [
        "sns.boxplot(y=train_HR['previous_year_rating'],x=train_HR['is_promoted'],color='green')\r\n",
        "plt.show()"
      ],
      "execution_count": null,
      "outputs": [
        {
          "output_type": "display_data",
          "data": {
            "image/png": "[encoded data removed]",
            "text/plain": [
              "<Figure size 432x288 with 1 Axes>"
            ]
          },
          "metadata": {
            "tags": [],
            "needs_background": "light"
          }
        }
      ]
    },
    {
      "cell_type": "code",
      "metadata": {
        "colab": {
          "base_uri": "https://localhost:8080/"
        },
        "id": "1QtJOtfYiBfH",
        "outputId": "5528dc26-3639-4960-fe8f-fad7bd2a11be"
      },
      "source": [
        "train_HR[train_HR['previous_year_rating']==1].shape[0]"
      ],
      "execution_count": null,
      "outputs": [
        {
          "output_type": "execute_result",
          "data": {
            "text/plain": [
              "6223"
            ]
          },
          "metadata": {
            "tags": []
          },
          "execution_count": 38
        }
      ]
    },
    {
      "cell_type": "markdown",
      "metadata": {
        "id": "JKlrcJALhf83"
      },
      "source": [
        "previous year rating is discrete data. Mean value is 3 . Not much of skew in the data as mean and median are more or less equal.Some outliers at low rating of 1. The mean value of prev year rating for people promoted is higher than those not promoted."
      ]
    },
    {
      "cell_type": "markdown",
      "metadata": {
        "id": "JNKPNcl_nhg0"
      },
      "source": [
        "**Examining length_of_service**"
      ]
    },
    {
      "cell_type": "code",
      "metadata": {
        "colab": {
          "base_uri": "https://localhost:8080/"
        },
        "id": "KUlSb894hSdc",
        "outputId": "a804860b-0df7-49d5-f95a-e1e2d428aa44"
      },
      "source": [
        "train_HR['length_of_service'].describe()"
      ],
      "execution_count": null,
      "outputs": [
        {
          "output_type": "execute_result",
          "data": {
            "text/plain": [
              "count    54808.000000\n",
              "mean         5.865512\n",
              "std          4.265094\n",
              "min          1.000000\n",
              "25%          3.000000\n",
              "50%          5.000000\n",
              "75%          7.000000\n",
              "max         37.000000\n",
              "Name: length_of_service, dtype: float64"
            ]
          },
          "metadata": {
            "tags": []
          },
          "execution_count": 39
        }
      ]
    },
    {
      "cell_type": "code",
      "metadata": {
        "colab": {
          "base_uri": "https://localhost:8080/",
          "height": 280
        },
        "id": "YJbiyfTVnXz-",
        "outputId": "d0a5af7b-1fe4-43f0-bfb5-3ba88bdf6c9f"
      },
      "source": [
        "# lets plot histogram of prev year rating\r\n",
        "sns.histplot(train_HR['length_of_service'],color='green')\r\n",
        "plt.show()"
      ],
      "execution_count": null,
      "outputs": [
        {
          "output_type": "display_data",
          "data": {
            "image/png": "[encoded data removed]",
            "text/plain": [
              "<Figure size 432x288 with 1 Axes>"
            ]
          },
          "metadata": {
            "tags": [],
            "needs_background": "light"
          }
        }
      ]
    },
    {
      "cell_type": "code",
      "metadata": {
        "colab": {
          "base_uri": "https://localhost:8080/",
          "height": 280
        },
        "id": "4evxDVTIn_w3",
        "outputId": "76f92943-236b-472e-a790-6411a7613b6d"
      },
      "source": [
        "sns.boxplot(y=train_HR['length_of_service'],x=train_HR['is_promoted'],color='green')\r\n",
        "plt.show()"
      ],
      "execution_count": null,
      "outputs": [
        {
          "output_type": "display_data",
          "data": {
            "image/png": "[encoded data removed]",
            "text/plain": [
              "<Figure size 432x288 with 1 Axes>"
            ]
          },
          "metadata": {
            "tags": [],
            "needs_background": "light"
          }
        }
      ]
    },
    {
      "cell_type": "markdown",
      "metadata": {
        "id": "ehTS4vg9pV38"
      },
      "source": [
        "There are some extreme values on the higher side. Average length of service is around 5 years both for promoted and not promoted. \r\n",
        "We can use z scores to remove outliers or we can try two iterations with and without outlier and check model evaluation . "
      ]
    },
    {
      "cell_type": "code",
      "metadata": {
        "id": "jGY801RzoeTZ"
      },
      "source": [
        "# using 1.5 IQR as outlier detection(we will use as separate iteration)\r\n",
        "#q75, q25 = np.percentile(train_HR['length_of_service'], [75,25])\r\n",
        "#iqr = q75 - q25\r\n",
        "#upper = q75+(1.5*iqr)\r\n",
        "#train_HR = train_HR[train_HR['length_of_service']<upper]\r\n",
        "#sns.boxplot(y=train_HR['length_of_service'],x=train_HR['is_promoted'],color='green')\r\n",
        "#plt.show()\r\n",
        "#test_HR = test_HR[test_HR['length_of_service']<upper]\"\"\""
      ],
      "execution_count": null,
      "outputs": []
    },
    {
      "cell_type": "markdown",
      "metadata": {
        "id": "u5sZV_Aaw2kE"
      },
      "source": [
        "*Examining KPIs_met >80%*"
      ]
    },
    {
      "cell_type": "code",
      "metadata": {
        "colab": {
          "base_uri": "https://localhost:8080/"
        },
        "id": "VLww7nyzxAIb",
        "outputId": "c615eed8-3b61-44b1-905b-79805768deb8"
      },
      "source": [
        "train_HR['KPIs_met >80%'].unique()"
      ],
      "execution_count": null,
      "outputs": [
        {
          "output_type": "execute_result",
          "data": {
            "text/plain": [
              "array([1, 0])"
            ]
          },
          "metadata": {
            "tags": []
          },
          "execution_count": 43
        }
      ]
    },
    {
      "cell_type": "code",
      "metadata": {
        "colab": {
          "base_uri": "https://localhost:8080/",
          "height": 280
        },
        "id": "xiubk7qExZG8",
        "outputId": "a9234334-0211-4720-91c9-7374eda633f5"
      },
      "source": [
        "sns.countplot(train_HR['KPIs_met >80%'],hue=train_HR['is_promoted'])\r\n",
        "plt.show()\r\n"
      ],
      "execution_count": null,
      "outputs": [
        {
          "output_type": "display_data",
          "data": {
            "image/png": "[encoded data removed]",
            "text/plain": [
              "<Figure size 432x288 with 1 Axes>"
            ]
          },
          "metadata": {
            "tags": [],
            "needs_background": "light"
          }
        }
      ]
    },
    {
      "cell_type": "markdown",
      "metadata": {
        "id": "Mf4-icmZ1zn4"
      },
      "source": [
        "Most of data pertains to KPI_met>80% True. The impact of this attribute on promotion is marginal for people who got promoted."
      ]
    },
    {
      "cell_type": "markdown",
      "metadata": {
        "id": "d4wEJHnP3JTl"
      },
      "source": [
        "*Examining 'awards_won?' column*"
      ]
    },
    {
      "cell_type": "code",
      "metadata": {
        "colab": {
          "base_uri": "https://localhost:8080/"
        },
        "id": "2uJ65XS81N4k",
        "outputId": "701ecd84-1861-4dd0-d018-7882e8208270"
      },
      "source": [
        "train_HR['awards_won?'].unique()"
      ],
      "execution_count": null,
      "outputs": [
        {
          "output_type": "execute_result",
          "data": {
            "text/plain": [
              "array([0, 1])"
            ]
          },
          "metadata": {
            "tags": []
          },
          "execution_count": 45
        }
      ]
    },
    {
      "cell_type": "code",
      "metadata": {
        "colab": {
          "base_uri": "https://localhost:8080/",
          "height": 280
        },
        "id": "SA37PNvE3Db-",
        "outputId": "134f9312-5829-49a5-eeb5-83de2e2858fc"
      },
      "source": [
        "sns.countplot(train_HR['awards_won?'],hue=train_HR['is_promoted'])\r\n",
        "plt.show()"
      ],
      "execution_count": null,
      "outputs": [
        {
          "output_type": "display_data",
          "data": {
            "image/png": "[encoded data removed]",
            "text/plain": [
              "<Figure size 432x288 with 1 Axes>"
            ]
          },
          "metadata": {
            "tags": [],
            "needs_background": "light"
          }
        }
      ]
    },
    {
      "cell_type": "code",
      "metadata": {
        "colab": {
          "base_uri": "https://localhost:8080/"
        },
        "id": "mNuHzVZi3vzk",
        "outputId": "1db054a0-6c35-4a4f-eb72-6aa5656476c8"
      },
      "source": [
        "train_HR[train_HR['awards_won?']==0].shape[0]"
      ],
      "execution_count": null,
      "outputs": [
        {
          "output_type": "execute_result",
          "data": {
            "text/plain": [
              "53538"
            ]
          },
          "metadata": {
            "tags": []
          },
          "execution_count": 47
        }
      ]
    },
    {
      "cell_type": "code",
      "metadata": {
        "colab": {
          "base_uri": "https://localhost:8080/"
        },
        "id": "-I1T95YQ4s5x",
        "outputId": "aa21cbc8-1a8d-4720-d127-633859fae28f"
      },
      "source": [
        "train_HR[train_HR['awards_won?']==1].shape[0]"
      ],
      "execution_count": null,
      "outputs": [
        {
          "output_type": "execute_result",
          "data": {
            "text/plain": [
              "1270"
            ]
          },
          "metadata": {
            "tags": []
          },
          "execution_count": 48
        }
      ]
    },
    {
      "cell_type": "markdown",
      "metadata": {
        "id": "bow0HJ5s40LR"
      },
      "source": [
        "Most of the people have won an award. The data seems has very less info related to this attribute for promotion. We can drop this column"
      ]
    },
    {
      "cell_type": "code",
      "metadata": {
        "id": "W2g6AhYU4yDd"
      },
      "source": [
        "#dropping awards won column from train and test data\r\n",
        "train_HR.drop('awards_won?',axis=1,inplace=True)\r\n",
        "test_HR.drop('awards_won?',axis=1,inplace=True)"
      ],
      "execution_count": null,
      "outputs": []
    },
    {
      "cell_type": "code",
      "metadata": {
        "colab": {
          "base_uri": "https://localhost:8080/"
        },
        "id": "2A8Agg2B5Xgl",
        "outputId": "5e9135ba-6209-4b61-f3a9-90a0283669ef"
      },
      "source": [
        "train_HR.columns"
      ],
      "execution_count": null,
      "outputs": [
        {
          "output_type": "execute_result",
          "data": {
            "text/plain": [
              "Index(['employee_id', 'department', 'region', 'education', 'gender',\n",
              "       'recruitment_channel', 'age', 'previous_year_rating',\n",
              "       'length_of_service', 'KPIs_met >80%', 'avg_training_score',\n",
              "       'is_promoted', 'no_trg_bin'],\n",
              "      dtype='object')"
            ]
          },
          "metadata": {
            "tags": []
          },
          "execution_count": 50
        }
      ]
    },
    {
      "cell_type": "code",
      "metadata": {
        "id": "G2tQ165rBqf_"
      },
      "source": [
        "#dropping awards won column from train and test data\r\n",
        "train_HR.drop('employee_id',axis=1,inplace=True)\r\n",
        "test_HR.drop('employee_id',axis=1,inplace=True)"
      ],
      "execution_count": null,
      "outputs": []
    },
    {
      "cell_type": "markdown",
      "metadata": {
        "id": "zUejcxAJCK0t"
      },
      "source": [
        "**Examining Department column**"
      ]
    },
    {
      "cell_type": "code",
      "metadata": {
        "colab": {
          "base_uri": "https://localhost:8080/"
        },
        "id": "lEcYrwlQCE9v",
        "outputId": "0e41c0f2-b257-44bd-af6c-0b35e7eb29a3"
      },
      "source": [
        "train_HR.department.value_counts()"
      ],
      "execution_count": null,
      "outputs": [
        {
          "output_type": "execute_result",
          "data": {
            "text/plain": [
              "Sales & Marketing    16840\n",
              "Operations           11348\n",
              "Procurement           7138\n",
              "Technology            7138\n",
              "Analytics             5352\n",
              "Finance               2536\n",
              "HR                    2418\n",
              "Legal                 1039\n",
              "R&D                    999\n",
              "Name: department, dtype: int64"
            ]
          },
          "metadata": {
            "tags": []
          },
          "execution_count": 52
        }
      ]
    },
    {
      "cell_type": "code",
      "metadata": {
        "id": "Fj7_RveYCI0_"
      },
      "source": [
        "#lets convert the department to Numeric \r\n",
        "from sklearn.preprocessing import LabelEncoder\r\n",
        "le = LabelEncoder()\r\n",
        "train_HR['department'] = le.fit_transform(train_HR['department'])\r\n",
        "test_HR['department'] = le.transform(test_HR['department'])"
      ],
      "execution_count": null,
      "outputs": []
    },
    {
      "cell_type": "markdown",
      "metadata": {
        "id": "f3ka_YeeDFxm"
      },
      "source": [
        "**Examing region column**"
      ]
    },
    {
      "cell_type": "code",
      "metadata": {
        "colab": {
          "base_uri": "https://localhost:8080/",
          "height": 323
        },
        "id": "hXOFrLXJC72O",
        "outputId": "6f69ccdb-3d82-4805-c49b-c4a992952dc0"
      },
      "source": [
        "sns.countplot(train_HR['region'],hue=train_HR['is_promoted'])\r\n",
        "plt.ylim(0,6000)\r\n",
        "plt.xticks(rotation=90)\r\n",
        "plt.show()"
      ],
      "execution_count": null,
      "outputs": [
        {
          "output_type": "display_data",
          "data": {
            "image/png": "[encoded data removed]",
            "text/plain": [
              "<Figure size 432x288 with 1 Axes>"
            ]
          },
          "metadata": {
            "tags": [],
            "needs_background": "light"
          }
        }
      ]
    },
    {
      "cell_type": "markdown",
      "metadata": {
        "id": "tKfMPuFJDvgR"
      },
      "source": [
        "Most of employees in the dataset are from region2,followed by 22 and 7. No major association is spotted between region and promotion. We shall check power of this feature during feature selection"
      ]
    },
    {
      "cell_type": "code",
      "metadata": {
        "id": "z9z64KoCDSED"
      },
      "source": [
        "#converting to numeric data\r\n",
        "train_HR['region'] = le.fit_transform(train_HR['region'])\r\n",
        "test_HR['region'] = le.transform(test_HR['region'])"
      ],
      "execution_count": null,
      "outputs": []
    },
    {
      "cell_type": "markdown",
      "metadata": {
        "id": "kwowes1ZFPHz"
      },
      "source": [
        "**Examining Gender column**"
      ]
    },
    {
      "cell_type": "code",
      "metadata": {
        "colab": {
          "base_uri": "https://localhost:8080/",
          "height": 279
        },
        "id": "eKenRBgfE-zv",
        "outputId": "ba0e38df-eaee-485b-894e-d0bb0a2f23a5"
      },
      "source": [
        "sns.countplot(train_HR['gender'],hue=train_HR['is_promoted'])\r\n",
        "plt.show()"
      ],
      "execution_count": null,
      "outputs": [
        {
          "output_type": "display_data",
          "data": {
            "image/png": "[encoded data removed]",
            "text/plain": [
              "<Figure size 432x288 with 1 Axes>"
            ]
          },
          "metadata": {
            "tags": [],
            "needs_background": "light"
          }
        }
      ]
    },
    {
      "cell_type": "markdown",
      "metadata": {
        "id": "MpbGepZrFcHo"
      },
      "source": [
        "The dataset has more male population. However the distribution seems to have no major strong association with promotion"
      ]
    },
    {
      "cell_type": "code",
      "metadata": {
        "id": "gY5CQ6dpFAdz"
      },
      "source": [
        "#converting the gender to numeric\r\n",
        "train_HR['gender'] = le.fit_transform(train_HR['gender'])\r\n",
        "test_HR['gender'] = le.transform(test_HR['gender'])"
      ],
      "execution_count": null,
      "outputs": []
    },
    {
      "cell_type": "markdown",
      "metadata": {
        "id": "W8Q4CbrxF_tX"
      },
      "source": [
        "**Examining Education Column**"
      ]
    },
    {
      "cell_type": "code",
      "metadata": {
        "colab": {
          "base_uri": "https://localhost:8080/",
          "height": 281
        },
        "id": "pemTzcIlF-iC",
        "outputId": "d3306024-6d23-465a-fb52-963ad63a580b"
      },
      "source": [
        "sns.countplot(train_HR['education'],hue=train_HR['is_promoted'])\r\n",
        "plt.show()"
      ],
      "execution_count": null,
      "outputs": [
        {
          "output_type": "display_data",
          "data": {
            "image/png": "[encoded data removed]",
            "text/plain": [
              "<Figure size 432x288 with 1 Axes>"
            ]
          },
          "metadata": {
            "tags": [],
            "needs_background": "light"
          }
        }
      ]
    },
    {
      "cell_type": "code",
      "metadata": {
        "colab": {
          "base_uri": "https://localhost:8080/"
        },
        "id": "71btUv3-GKHC",
        "outputId": "04484772-6b72-4a48-efee-dc18369f755f"
      },
      "source": [
        "train_HR['education'].value_counts()"
      ],
      "execution_count": null,
      "outputs": [
        {
          "output_type": "execute_result",
          "data": {
            "text/plain": [
              "Bachelor's          36669\n",
              "Master's & above    14925\n",
              "Bachelor's'          2409\n",
              "Below Secondary       805\n",
              "Name: education, dtype: int64"
            ]
          },
          "metadata": {
            "tags": []
          },
          "execution_count": 59
        }
      ]
    },
    {
      "cell_type": "code",
      "metadata": {
        "id": "6Pi0umZtGUJr"
      },
      "source": [
        "#combining both Bachelors cat to one\r\n",
        "train_HR['education'] = train_HR['education'].replace({\"Bachelor's'\":\"Bachelor's\"})\r\n",
        "test_HR['education'] = test_HR['education'].replace({\"Bachelor's'\":\"Bachelor's\"})"
      ],
      "execution_count": null,
      "outputs": []
    },
    {
      "cell_type": "code",
      "metadata": {
        "id": "lj-9kuXKHACt"
      },
      "source": [
        "#converting to numeric\r\n",
        "train_HR['education'] = le.fit_transform(train_HR['education'])\r\n",
        "test_HR['education'] = le.transform(test_HR['education'])\r\n"
      ],
      "execution_count": null,
      "outputs": []
    },
    {
      "cell_type": "markdown",
      "metadata": {
        "id": "Nlf8nT77JnRE"
      },
      "source": [
        "**Examining Regruitment Channel column**"
      ]
    },
    {
      "cell_type": "code",
      "metadata": {
        "colab": {
          "base_uri": "https://localhost:8080/"
        },
        "id": "_Cuzw0pZJkJb",
        "outputId": "3b06aff3-5d24-4dd5-9968-278307fe6c44"
      },
      "source": [
        "train_HR['recruitment_channel'].value_counts()"
      ],
      "execution_count": null,
      "outputs": [
        {
          "output_type": "execute_result",
          "data": {
            "text/plain": [
              "other       30446\n",
              "sourcing    23220\n",
              "referred     1142\n",
              "Name: recruitment_channel, dtype: int64"
            ]
          },
          "metadata": {
            "tags": []
          },
          "execution_count": 62
        }
      ]
    },
    {
      "cell_type": "code",
      "metadata": {
        "colab": {
          "base_uri": "https://localhost:8080/",
          "height": 280
        },
        "id": "2jhCEYp9J1pu",
        "outputId": "76e7f318-4983-45ab-f67c-0478c4d2cd51"
      },
      "source": [
        "sns.countplot(train_HR['recruitment_channel'],hue=train_HR['is_promoted'])\r\n",
        "plt.show()"
      ],
      "execution_count": null,
      "outputs": [
        {
          "output_type": "display_data",
          "data": {
            "image/png": "[encoded data removed]",
            "text/plain": [
              "<Figure size 432x288 with 1 Axes>"
            ]
          },
          "metadata": {
            "tags": [],
            "needs_background": "light"
          }
        }
      ]
    },
    {
      "cell_type": "markdown",
      "metadata": {
        "id": "FEFYWAttKDEr"
      },
      "source": [
        "Most of individuals belong to other class. Promotion levels of referred indviduals seems low"
      ]
    },
    {
      "cell_type": "code",
      "metadata": {
        "id": "O2accGKTJ_KY"
      },
      "source": [
        "#converting to numeric\r\n",
        "train_HR['recruitment_channel'] = le.fit_transform(train_HR['recruitment_channel'])\r\n",
        "test_HR['recruitment_channel'] = le.transform(test_HR['recruitment_channel'])"
      ],
      "execution_count": null,
      "outputs": []
    },
    {
      "cell_type": "code",
      "metadata": {
        "id": "yK7Y6o_VKhqi"
      },
      "source": [
        "#converting trag_cat_bin to numeric\r\n",
        "train_HR['no_trg_bin'] = le.fit_transform(train_HR['no_trg_bin'])\r\n",
        "test_HR['no_trg_bin'] = le.transform(test_HR['no_trg_bin'])"
      ],
      "execution_count": null,
      "outputs": []
    },
    {
      "cell_type": "code",
      "metadata": {
        "colab": {
          "base_uri": "https://localhost:8080/",
          "height": 237
        },
        "id": "ZWlUCn4BK6re",
        "outputId": "2725ec58-2846-4467-e467-bb2bb97f804f"
      },
      "source": [
        "train_HR.head()"
      ],
      "execution_count": null,
      "outputs": [
        {
          "output_type": "execute_result",
          "data": {
            "text/html": [
              "<div>\n",
              "<style scoped>\n",
              "    .dataframe tbody tr th:only-of-type {\n",
              "        vertical-align: middle;\n",
              "    }\n",
              "\n",
              "    .dataframe tbody tr th {\n",
              "        vertical-align: top;\n",
              "    }\n",
              "\n",
              "    .dataframe thead th {\n",
              "        text-align: right;\n",
              "    }\n",
              "</style>\n",
              "<table border=\"1\" class=\"dataframe\">\n",
              "  <thead>\n",
              "    <tr style=\"text-align: right;\">\n",
              "      <th></th>\n",
              "      <th>department</th>\n",
              "      <th>region</th>\n",
              "      <th>education</th>\n",
              "      <th>gender</th>\n",
              "      <th>recruitment_channel</th>\n",
              "      <th>age</th>\n",
              "      <th>previous_year_rating</th>\n",
              "      <th>length_of_service</th>\n",
              "      <th>KPIs_met &gt;80%</th>\n",
              "      <th>avg_training_score</th>\n",
              "      <th>is_promoted</th>\n",
              "      <th>no_trg_bin</th>\n",
              "    </tr>\n",
              "  </thead>\n",
              "  <tbody>\n",
              "    <tr>\n",
              "      <th>0</th>\n",
              "      <td>7</td>\n",
              "      <td>31</td>\n",
              "      <td>2</td>\n",
              "      <td>0</td>\n",
              "      <td>2</td>\n",
              "      <td>3.555348</td>\n",
              "      <td>5.0</td>\n",
              "      <td>8</td>\n",
              "      <td>1</td>\n",
              "      <td>49</td>\n",
              "      <td>0</td>\n",
              "      <td>1</td>\n",
              "    </tr>\n",
              "    <tr>\n",
              "      <th>1</th>\n",
              "      <td>4</td>\n",
              "      <td>14</td>\n",
              "      <td>0</td>\n",
              "      <td>1</td>\n",
              "      <td>0</td>\n",
              "      <td>3.401197</td>\n",
              "      <td>5.0</td>\n",
              "      <td>4</td>\n",
              "      <td>0</td>\n",
              "      <td>60</td>\n",
              "      <td>0</td>\n",
              "      <td>1</td>\n",
              "    </tr>\n",
              "    <tr>\n",
              "      <th>2</th>\n",
              "      <td>7</td>\n",
              "      <td>10</td>\n",
              "      <td>0</td>\n",
              "      <td>1</td>\n",
              "      <td>2</td>\n",
              "      <td>3.526361</td>\n",
              "      <td>3.0</td>\n",
              "      <td>7</td>\n",
              "      <td>0</td>\n",
              "      <td>50</td>\n",
              "      <td>0</td>\n",
              "      <td>1</td>\n",
              "    </tr>\n",
              "    <tr>\n",
              "      <th>3</th>\n",
              "      <td>7</td>\n",
              "      <td>15</td>\n",
              "      <td>0</td>\n",
              "      <td>1</td>\n",
              "      <td>0</td>\n",
              "      <td>3.663562</td>\n",
              "      <td>1.0</td>\n",
              "      <td>10</td>\n",
              "      <td>0</td>\n",
              "      <td>50</td>\n",
              "      <td>0</td>\n",
              "      <td>2</td>\n",
              "    </tr>\n",
              "    <tr>\n",
              "      <th>4</th>\n",
              "      <td>8</td>\n",
              "      <td>18</td>\n",
              "      <td>0</td>\n",
              "      <td>1</td>\n",
              "      <td>0</td>\n",
              "      <td>3.806662</td>\n",
              "      <td>3.0</td>\n",
              "      <td>2</td>\n",
              "      <td>0</td>\n",
              "      <td>73</td>\n",
              "      <td>0</td>\n",
              "      <td>1</td>\n",
              "    </tr>\n",
              "  </tbody>\n",
              "</table>\n",
              "</div>"
            ],
            "text/plain": [
              "   department  region  education  ...  avg_training_score  is_promoted  no_trg_bin\n",
              "0           7      31          2  ...                  49            0           1\n",
              "1           4      14          0  ...                  60            0           1\n",
              "2           7      10          0  ...                  50            0           1\n",
              "3           7      15          0  ...                  50            0           2\n",
              "4           8      18          0  ...                  73            0           1\n",
              "\n",
              "[5 rows x 12 columns]"
            ]
          },
          "metadata": {
            "tags": []
          },
          "execution_count": 66
        }
      ]
    },
    {
      "cell_type": "markdown",
      "metadata": {
        "id": "QsA6uWvgK-sb"
      },
      "source": [
        "All attributes have been converted to numeric"
      ]
    },
    {
      "cell_type": "markdown",
      "metadata": {
        "id": "zUBAEeW7LDlq"
      },
      "source": [
        "**Using Boruta for feature selection**"
      ]
    },
    {
      "cell_type": "code",
      "metadata": {
        "colab": {
          "base_uri": "https://localhost:8080/"
        },
        "id": "94SX5LoHK8IQ",
        "outputId": "e11b83f8-52b5-4ded-ed51-faad3a259b39"
      },
      "source": [
        "!pip install Boruta"
      ],
      "execution_count": null,
      "outputs": [
        {
          "output_type": "stream",
          "text": [
            "Collecting Boruta\n",
            "\u001b[?25l  Downloading https://files.pythonhosted.org/packages/b2/11/583f4eac99d802c79af9217e1eff56027742a69e6c866b295cce6a5a8fc2/Boruta-0.3-py3-none-any.whl (56kB)\n",
            "\r\u001b[K     |█████▉                          | 10kB 13.9MB/s eta 0:00:01\r\u001b[K     |███████████▋                    | 20kB 10.0MB/s eta 0:00:01\r\u001b[K     |█████████████████▍              | 30kB 7.9MB/s eta 0:00:01\r\u001b[K     |███████████████████████▏        | 40kB 7.3MB/s eta 0:00:01\r\u001b[K     |█████████████████████████████   | 51kB 4.0MB/s eta 0:00:01\r\u001b[K     |████████████████████████████████| 61kB 2.9MB/s \n",
            "\u001b[?25hRequirement already satisfied: scipy>=0.17.0 in /usr/local/lib/python3.6/dist-packages (from Boruta) (1.4.1)\n",
            "Requirement already satisfied: scikit-learn>=0.17.1 in /usr/local/lib/python3.6/dist-packages (from Boruta) (0.22.2.post1)\n",
            "Requirement already satisfied: numpy>=1.10.4 in /usr/local/lib/python3.6/dist-packages (from Boruta) (1.19.5)\n",
            "Requirement already satisfied: joblib>=0.11 in /usr/local/lib/python3.6/dist-packages (from scikit-learn>=0.17.1->Boruta) (1.0.0)\n",
            "Installing collected packages: Boruta\n",
            "Successfully installed Boruta-0.3\n"
          ],
          "name": "stdout"
        }
      ]
    },
    {
      "cell_type": "code",
      "metadata": {
        "id": "u7McmxPRMOha"
      },
      "source": [
        "#assigning and splitting train_HR into train and test \r\n",
        "X = train_HR.drop('is_promoted',axis=1)\r\n",
        "y = train_HR['is_promoted']"
      ],
      "execution_count": null,
      "outputs": []
    },
    {
      "cell_type": "code",
      "metadata": {
        "id": "OhAn4QMIMkeI"
      },
      "source": [
        "#we will use test_HR for final validation\r\n",
        "#splitting training set into train and test\r\n",
        "from sklearn.model_selection import train_test_split\r\n",
        "X_train,X_test,y_train,y_test = train_test_split(X,y,test_size=0.20,random_state=42)"
      ],
      "execution_count": null,
      "outputs": []
    },
    {
      "cell_type": "markdown",
      "metadata": {
        "id": "hcwv8i-dNxNR"
      },
      "source": [
        "**Feature Selection Using Boruta**"
      ]
    },
    {
      "cell_type": "code",
      "metadata": {
        "id": "sZhTIpOXLKaC"
      },
      "source": [
        "from boruta import BorutaPy\r\n",
        "from sklearn.ensemble import RandomForestClassifier\r\n",
        "X_train_boruta = np.array(X_train)\r\n",
        "y_train_boruta = np.array(y_train)"
      ],
      "execution_count": null,
      "outputs": []
    },
    {
      "cell_type": "code",
      "metadata": {
        "colab": {
          "base_uri": "https://localhost:8080/"
        },
        "id": "bQVqcCiJMHeA",
        "outputId": "75faf962-b2b2-4365-bfc2-c59541457cb6"
      },
      "source": [
        "rfc = RandomForestClassifier(random_state=1, n_estimators=1000, max_depth=5)\r\n",
        "boruta_selector = BorutaPy(rfc, n_estimators='auto', verbose=0, random_state=1)   # initialize the boruta selector\r\n",
        "boruta_selector.fit(X_train_boruta,y_train_boruta)       # fitting the boruta selector to get all relavent features. \r\n",
        "# NOTE: BorutaPy accepts numpy arrays only."
      ],
      "execution_count": null,
      "outputs": [
        {
          "output_type": "execute_result",
          "data": {
            "text/plain": [
              "BorutaPy(alpha=0.05,\n",
              "         estimator=RandomForestClassifier(bootstrap=True, ccp_alpha=0.0,\n",
              "                                          class_weight=None, criterion='gini',\n",
              "                                          max_depth=5, max_features='auto',\n",
              "                                          max_leaf_nodes=None, max_samples=None,\n",
              "                                          min_impurity_decrease=0.0,\n",
              "                                          min_impurity_split=None,\n",
              "                                          min_samples_leaf=1,\n",
              "                                          min_samples_split=2,\n",
              "                                          min_weight_fraction_leaf=0.0,\n",
              "                                          n_estimators=74, n_jobs=None,\n",
              "                                          oob_score=False,\n",
              "                                          random_state=RandomState(MT19937) at 0x7F87175F2CA8,\n",
              "                                          verbose=0, warm_start=False),\n",
              "         max_iter=100, n_estimators='auto', perc=100,\n",
              "         random_state=RandomState(MT19937) at 0x7F87175F2CA8, two_step=True,\n",
              "         verbose=0)"
            ]
          },
          "metadata": {
            "tags": []
          },
          "execution_count": 71
        }
      ]
    },
    {
      "cell_type": "code",
      "metadata": {
        "colab": {
          "base_uri": "https://localhost:8080/"
        },
        "id": "4nm_6YXdSmv4",
        "outputId": "017ca1ad-032a-4b70-c93d-6c34b7595bb9"
      },
      "source": [
        "type(X_train)"
      ],
      "execution_count": null,
      "outputs": [
        {
          "output_type": "execute_result",
          "data": {
            "text/plain": [
              "pandas.core.frame.DataFrame"
            ]
          },
          "metadata": {
            "tags": []
          },
          "execution_count": 72
        }
      ]
    },
    {
      "cell_type": "code",
      "metadata": {
        "colab": {
          "base_uri": "https://localhost:8080/",
          "height": 383
        },
        "id": "lHl1QvOtN_NO",
        "outputId": "284f69a5-74b9-4bb2-b7a3-3a09a8d825da"
      },
      "source": [
        "#visualising selected columns\r\n",
        "selected_rf_features = pd.DataFrame({'Feature':list(X_train.columns),\r\n",
        "                                      'Ranking':boruta_selector.ranking_})\r\n",
        "selected_rf_features.sort_values(by='Ranking')"
      ],
      "execution_count": null,
      "outputs": [
        {
          "output_type": "execute_result",
          "data": {
            "text/html": [
              "<div>\n",
              "<style scoped>\n",
              "    .dataframe tbody tr th:only-of-type {\n",
              "        vertical-align: middle;\n",
              "    }\n",
              "\n",
              "    .dataframe tbody tr th {\n",
              "        vertical-align: top;\n",
              "    }\n",
              "\n",
              "    .dataframe thead th {\n",
              "        text-align: right;\n",
              "    }\n",
              "</style>\n",
              "<table border=\"1\" class=\"dataframe\">\n",
              "  <thead>\n",
              "    <tr style=\"text-align: right;\">\n",
              "      <th></th>\n",
              "      <th>Feature</th>\n",
              "      <th>Ranking</th>\n",
              "    </tr>\n",
              "  </thead>\n",
              "  <tbody>\n",
              "    <tr>\n",
              "      <th>0</th>\n",
              "      <td>department</td>\n",
              "      <td>1</td>\n",
              "    </tr>\n",
              "    <tr>\n",
              "      <th>1</th>\n",
              "      <td>region</td>\n",
              "      <td>1</td>\n",
              "    </tr>\n",
              "    <tr>\n",
              "      <th>5</th>\n",
              "      <td>age</td>\n",
              "      <td>1</td>\n",
              "    </tr>\n",
              "    <tr>\n",
              "      <th>6</th>\n",
              "      <td>previous_year_rating</td>\n",
              "      <td>1</td>\n",
              "    </tr>\n",
              "    <tr>\n",
              "      <th>7</th>\n",
              "      <td>length_of_service</td>\n",
              "      <td>1</td>\n",
              "    </tr>\n",
              "    <tr>\n",
              "      <th>8</th>\n",
              "      <td>KPIs_met &gt;80%</td>\n",
              "      <td>1</td>\n",
              "    </tr>\n",
              "    <tr>\n",
              "      <th>9</th>\n",
              "      <td>avg_training_score</td>\n",
              "      <td>1</td>\n",
              "    </tr>\n",
              "    <tr>\n",
              "      <th>2</th>\n",
              "      <td>education</td>\n",
              "      <td>2</td>\n",
              "    </tr>\n",
              "    <tr>\n",
              "      <th>10</th>\n",
              "      <td>no_trg_bin</td>\n",
              "      <td>3</td>\n",
              "    </tr>\n",
              "    <tr>\n",
              "      <th>3</th>\n",
              "      <td>gender</td>\n",
              "      <td>4</td>\n",
              "    </tr>\n",
              "    <tr>\n",
              "      <th>4</th>\n",
              "      <td>recruitment_channel</td>\n",
              "      <td>5</td>\n",
              "    </tr>\n",
              "  </tbody>\n",
              "</table>\n",
              "</div>"
            ],
            "text/plain": [
              "                 Feature  Ranking\n",
              "0             department        1\n",
              "1                 region        1\n",
              "5                    age        1\n",
              "6   previous_year_rating        1\n",
              "7      length_of_service        1\n",
              "8          KPIs_met >80%        1\n",
              "9     avg_training_score        1\n",
              "2              education        2\n",
              "10            no_trg_bin        3\n",
              "3                 gender        4\n",
              "4    recruitment_channel        5"
            ]
          },
          "metadata": {
            "tags": []
          },
          "execution_count": 73
        }
      ]
    },
    {
      "cell_type": "code",
      "metadata": {
        "id": "RUaxiHLmONdH"
      },
      "source": [
        "#lets shortlist selected columns\r\n",
        "selected_features = ['department', 'region', 'education', 'age', 'previous_year_rating', 'length_of_service', 'KPIs_met >80%','avg_training_score']"
      ],
      "execution_count": null,
      "outputs": []
    },
    {
      "cell_type": "markdown",
      "metadata": {
        "id": "0sirIs_KPMJz"
      },
      "source": [
        "**Base Model** with all features and using Random Forest Model"
      ]
    },
    {
      "cell_type": "code",
      "metadata": {
        "colab": {
          "base_uri": "https://localhost:8080/"
        },
        "id": "6iFcQtovOyMj",
        "outputId": "04b790a7-5798-41a5-aa36-884fbde7e820"
      },
      "source": [
        "from sklearn.ensemble import RandomForestClassifier   # import the model\r\n",
        "rfc = RandomForestClassifier()\r\n",
        "rfc.fit(X_train, y_train)  "
      ],
      "execution_count": null,
      "outputs": [
        {
          "output_type": "execute_result",
          "data": {
            "text/plain": [
              "RandomForestClassifier(bootstrap=True, ccp_alpha=0.0, class_weight=None,\n",
              "                       criterion='gini', max_depth=None, max_features='auto',\n",
              "                       max_leaf_nodes=None, max_samples=None,\n",
              "                       min_impurity_decrease=0.0, min_impurity_split=None,\n",
              "                       min_samples_leaf=1, min_samples_split=2,\n",
              "                       min_weight_fraction_leaf=0.0, n_estimators=100,\n",
              "                       n_jobs=None, oob_score=False, random_state=None,\n",
              "                       verbose=0, warm_start=False)"
            ]
          },
          "metadata": {
            "tags": []
          },
          "execution_count": 75
        }
      ]
    },
    {
      "cell_type": "code",
      "metadata": {
        "colab": {
          "base_uri": "https://localhost:8080/"
        },
        "id": "RWwXp1xqPX46",
        "outputId": "36d6b623-ec84-4748-b8c1-7b462c6c2b6e"
      },
      "source": [
        "#evaluate the model\r\n",
        "from sklearn import metrics\r\n",
        "print(metrics.f1_score(y_test,rfc.predict(X_test)))"
      ],
      "execution_count": null,
      "outputs": [
        {
          "output_type": "stream",
          "text": [
            "0.428923582580115\n"
          ],
          "name": "stdout"
        }
      ]
    },
    {
      "cell_type": "markdown",
      "metadata": {
        "id": "PG3WOuneQTGU"
      },
      "source": [
        "**Model Iteration for improving the score**"
      ]
    },
    {
      "cell_type": "markdown",
      "metadata": {
        "id": "vCZwWux9Q0dO"
      },
      "source": [
        "Using SMOTE to address imbalance in data"
      ]
    },
    {
      "cell_type": "code",
      "metadata": {
        "id": "QnCTyqSpQF7N"
      },
      "source": [
        "# import SMOTE \r\n",
        "from imblearn.over_sampling import SMOTE\r\n",
        "\r\n",
        "sm = SMOTE(random_state = 25, ratio = 1.0)   # again we are eqalizing both the classes\r\n",
        "# fit the sampling\r\n",
        "X_train, y_train = sm.fit_sample(X_train, y_train)"
      ],
      "execution_count": null,
      "outputs": []
    },
    {
      "cell_type": "code",
      "metadata": {
        "colab": {
          "base_uri": "https://localhost:8080/"
        },
        "id": "RS6mL7xBQ5wN",
        "outputId": "ed9c60d3-d70c-4d55-d37a-b6b3691ba6b9"
      },
      "source": [
        "np.unique(y_train, return_counts=True) #the count of promoted and not promoted equalised"
      ],
      "execution_count": null,
      "outputs": [
        {
          "output_type": "execute_result",
          "data": {
            "text/plain": [
              "(array([0, 1]), array([40086, 40086]))"
            ]
          },
          "metadata": {
            "tags": []
          },
          "execution_count": 78
        }
      ]
    },
    {
      "cell_type": "code",
      "metadata": {
        "id": "0vhAWEteUXBA"
      },
      "source": [
        "X_train = pd.DataFrame(X_train,columns=[X.columns])\r\n"
      ],
      "execution_count": null,
      "outputs": []
    },
    {
      "cell_type": "markdown",
      "metadata": {
        "id": "6wdmHxjaR0iz"
      },
      "source": [
        "**Hyperparameter Tuning**"
      ]
    },
    {
      "cell_type": "code",
      "metadata": {
        "id": "JsV6yvvJRR2L"
      },
      "source": [
        "from sklearn.model_selection import GridSearchCV\r\n",
        "# Create the parameter grid based on the results of random search \r\n",
        "param_grid = {\r\n",
        "    'bootstrap': [True, False],\r\n",
        "    'max_depth': [5, 10, 15],\r\n",
        "    'n_estimators': [500, 1000]}\r\n",
        "rf = RandomForestClassifier(random_state = 42)\r\n",
        "\r\n",
        "# Grid search cv\r\n",
        "grid_search = GridSearchCV(estimator = rf, param_grid = param_grid, \r\n",
        "                          cv = 5, n_jobs = -1, verbose = 2)"
      ],
      "execution_count": null,
      "outputs": []
    },
    {
      "cell_type": "code",
      "metadata": {
        "colab": {
          "base_uri": "https://localhost:8080/"
        },
        "id": "VGIBv2rZSLsg",
        "outputId": "92f11926-a34f-45d3-c55a-f8c23ba0773e"
      },
      "source": [
        "X_important_train = X_train[selected_features]\r\n",
        "grid_search.fit(X_important_train, y_train)"
      ],
      "execution_count": null,
      "outputs": [
        {
          "output_type": "stream",
          "text": [
            "Fitting 5 folds for each of 12 candidates, totalling 60 fits\n"
          ],
          "name": "stdout"
        },
        {
          "output_type": "stream",
          "text": [
            "[Parallel(n_jobs=-1)]: Using backend LokyBackend with 2 concurrent workers.\n",
            "[Parallel(n_jobs=-1)]: Done  37 tasks      | elapsed: 17.4min\n",
            "[Parallel(n_jobs=-1)]: Done  60 out of  60 | elapsed: 34.9min finished\n"
          ],
          "name": "stderr"
        },
        {
          "output_type": "execute_result",
          "data": {
            "text/plain": [
              "GridSearchCV(cv=5, error_score=nan,\n",
              "             estimator=RandomForestClassifier(bootstrap=True, ccp_alpha=0.0,\n",
              "                                              class_weight=None,\n",
              "                                              criterion='gini', max_depth=None,\n",
              "                                              max_features='auto',\n",
              "                                              max_leaf_nodes=None,\n",
              "                                              max_samples=None,\n",
              "                                              min_impurity_decrease=0.0,\n",
              "                                              min_impurity_split=None,\n",
              "                                              min_samples_leaf=1,\n",
              "                                              min_samples_split=2,\n",
              "                                              min_weight_fraction_leaf=0.0,\n",
              "                                              n_estimators=100, n_jobs=None,\n",
              "                                              oob_score=False, random_state=42,\n",
              "                                              verbose=0, warm_start=False),\n",
              "             iid='deprecated', n_jobs=-1,\n",
              "             param_grid={'bootstrap': [True, False], 'max_depth': [5, 10, 15],\n",
              "                         'n_estimators': [500, 1000]},\n",
              "             pre_dispatch='2*n_jobs', refit=True, return_train_score=False,\n",
              "             scoring=None, verbose=2)"
            ]
          },
          "metadata": {
            "tags": []
          },
          "execution_count": 81
        }
      ]
    },
    {
      "cell_type": "code",
      "metadata": {
        "colab": {
          "base_uri": "https://localhost:8080/"
        },
        "id": "NV2wlwE7SVcm",
        "outputId": "1c725a1f-5e79-4406-bba9-3c3d7d31ea8d"
      },
      "source": [
        "grid_search.best_params_"
      ],
      "execution_count": null,
      "outputs": [
        {
          "output_type": "execute_result",
          "data": {
            "text/plain": [
              "{'bootstrap': False, 'max_depth': 15, 'n_estimators': 1000}"
            ]
          },
          "metadata": {
            "tags": []
          },
          "execution_count": 82
        }
      ]
    },
    {
      "cell_type": "code",
      "metadata": {
        "colab": {
          "base_uri": "https://localhost:8080/"
        },
        "id": "ul1swSjGa09I",
        "outputId": "779b6882-c9b3-498b-a4c1-bc95b265a15d"
      },
      "source": [
        "X_important_test = X_test[selected_features]\r\n",
        "metrics.f1_score(y_test, grid_search.predict(X_important_test))"
      ],
      "execution_count": null,
      "outputs": [
        {
          "output_type": "execute_result",
          "data": {
            "text/plain": [
              "0.38154733301297455"
            ]
          },
          "metadata": {
            "tags": []
          },
          "execution_count": 83
        }
      ]
    },
    {
      "cell_type": "code",
      "metadata": {
        "id": "QyzKKkXZa0_x"
      },
      "source": [
        "#we inadvertantly dropped id from test data\r\n",
        "#we will temporarily tackle this\r\n",
        "result_df= pd.read_csv('test_HR.csv')\r\n",
        "result_df = result_df[['employee_id']]"
      ],
      "execution_count": null,
      "outputs": []
    },
    {
      "cell_type": "code",
      "metadata": {
        "id": "GJQKgjfSa1Cf"
      },
      "source": [
        "#use model for prediction on test set\r\n",
        "test_HR = test_HR[selected_features]\r\n",
        "y_pred = grid_search.predict(test_HR)"
      ],
      "execution_count": null,
      "outputs": []
    },
    {
      "cell_type": "code",
      "metadata": {
        "colab": {
          "base_uri": "https://localhost:8080/",
          "height": 201
        },
        "id": "olbQEgYQCoT2",
        "outputId": "7eeb3066-0892-45ac-be40-023d38b09b38"
      },
      "source": [
        "result_df['is_promoted'] = pd.Series(y_pred)\r\n",
        "result_df.head()"
      ],
      "execution_count": null,
      "outputs": [
        {
          "output_type": "execute_result",
          "data": {
            "text/html": [
              "<div>\n",
              "<style scoped>\n",
              "    .dataframe tbody tr th:only-of-type {\n",
              "        vertical-align: middle;\n",
              "    }\n",
              "\n",
              "    .dataframe tbody tr th {\n",
              "        vertical-align: top;\n",
              "    }\n",
              "\n",
              "    .dataframe thead th {\n",
              "        text-align: right;\n",
              "    }\n",
              "</style>\n",
              "<table border=\"1\" class=\"dataframe\">\n",
              "  <thead>\n",
              "    <tr style=\"text-align: right;\">\n",
              "      <th></th>\n",
              "      <th>employee_id</th>\n",
              "      <th>is_promoted</th>\n",
              "    </tr>\n",
              "  </thead>\n",
              "  <tbody>\n",
              "    <tr>\n",
              "      <th>0</th>\n",
              "      <td>8724</td>\n",
              "      <td>0</td>\n",
              "    </tr>\n",
              "    <tr>\n",
              "      <th>1</th>\n",
              "      <td>74430</td>\n",
              "      <td>0</td>\n",
              "    </tr>\n",
              "    <tr>\n",
              "      <th>2</th>\n",
              "      <td>72255</td>\n",
              "      <td>0</td>\n",
              "    </tr>\n",
              "    <tr>\n",
              "      <th>3</th>\n",
              "      <td>38562</td>\n",
              "      <td>0</td>\n",
              "    </tr>\n",
              "    <tr>\n",
              "      <th>4</th>\n",
              "      <td>64486</td>\n",
              "      <td>0</td>\n",
              "    </tr>\n",
              "  </tbody>\n",
              "</table>\n",
              "</div>"
            ],
            "text/plain": [
              "   employee_id  is_promoted\n",
              "0         8724            0\n",
              "1        74430            0\n",
              "2        72255            0\n",
              "3        38562            0\n",
              "4        64486            0"
            ]
          },
          "metadata": {
            "tags": []
          },
          "execution_count": 86
        }
      ]
    },
    {
      "cell_type": "code",
      "metadata": {
        "colab": {
          "base_uri": "https://localhost:8080/",
          "height": 34
        },
        "id": "PxsviGWaW4Az",
        "outputId": "451b2d9e-1c4d-4e2d-8bd6-33887610ebe7"
      },
      "source": [
        "from google.colab import files\r\n",
        "result_df.to_csv('HR_Analytics.csv',index=False)\r\n",
        "files.download('HR_Analytics.csv')"
      ],
      "execution_count": null,
      "outputs": [
        {
          "output_type": "display_data",
          "data": {
            "application/javascript": [
              "\n",
              "    async function download(id, filename, size) {\n",
              "      if (!google.colab.kernel.accessAllowed) {\n",
              "        return;\n",
              "      }\n",
              "      const div = document.createElement('div');\n",
              "      const label = document.createElement('label');\n",
              "      label.textContent = `Downloading \"${filename}\": `;\n",
              "      div.appendChild(label);\n",
              "      const progress = document.createElement('progress');\n",
              "      progress.max = size;\n",
              "      div.appendChild(progress);\n",
              "      document.body.appendChild(div);\n",
              "\n",
              "      const buffers = [];\n",
              "      let downloaded = 0;\n",
              "\n",
              "      const channel = await google.colab.kernel.comms.open(id);\n",
              "      // Send a message to notify the kernel that we're ready.\n",
              "      channel.send({})\n",
              "\n",
              "      for await (const message of channel.messages) {\n",
              "        // Send a message to notify the kernel that we're ready.\n",
              "        channel.send({})\n",
              "        if (message.buffers) {\n",
              "          for (const buffer of message.buffers) {\n",
              "            buffers.push(buffer);\n",
              "            downloaded += buffer.byteLength;\n",
              "            progress.value = downloaded;\n",
              "          }\n",
              "        }\n",
              "      }\n",
              "      const blob = new Blob(buffers, {type: 'application/binary'});\n",
              "      const a = document.createElement('a');\n",
              "      a.href = window.URL.createObjectURL(blob);\n",
              "      a.download = filename;\n",
              "      div.appendChild(a);\n",
              "      a.click();\n",
              "      div.remove();\n",
              "    }\n",
              "  "
            ],
            "text/plain": [
              "<IPython.core.display.Javascript object>"
            ]
          },
          "metadata": {
            "tags": []
          }
        },
        {
          "output_type": "display_data",
          "data": {
            "application/javascript": [
              "download(\"download_08af790a-e4d0-42d6-8e66-cd7ad3277b6b\", \"HR_Analytics.csv\", 184576)"
            ],
            "text/plain": [
              "<IPython.core.display.Javascript object>"
            ]
          },
          "metadata": {
            "tags": []
          }
        }
      ]
    },
    {
      "cell_type": "code",
      "metadata": {
        "id": "CFXtHQmBX154"
      },
      "source": [
        ""
      ],
      "execution_count": null,
      "outputs": []
    },
    {
      "cell_type": "markdown",
      "metadata": {
        "id": "9DebMMYiYcIN"
      },
      "source": [
        "The above code got 0.39 score at Analytics Vidhya (rank 2407 out of 3191)"
      ]
    },
    {
      "cell_type": "markdown",
      "metadata": {
        "id": "kwKWhGlWZ5KK"
      },
      "source": [
        "**Using Gradient Boosting**"
      ]
    },
    {
      "cell_type": "code",
      "metadata": {
        "id": "3lWb2IGyZgIa"
      },
      "source": [
        "def print_results(results):\r\n",
        "    print('BEST PARAMS: {}\\n'.format(results.best_params_))\r\n",
        "\r\n",
        "    means = results.cv_results_['mean_test_score']\r\n",
        "    stds = results.cv_results_['std_test_score']\r\n",
        "    for mean, std, params in zip(means, stds, results.cv_results_['params']):\r\n",
        "        print('{} (+/-{}) for {}'.format(round(mean, 3), round(std * 2, 3), params))"
      ],
      "execution_count": null,
      "outputs": []
    },
    {
      "cell_type": "code",
      "metadata": {
        "id": "RHg-dnW5Z8r7"
      },
      "source": [
        "from sklearn.ensemble import GradientBoostingClassifier\r\n",
        "from sklearn.model_selection import GridSearchCV,RandomizedSearchCV\r\n",
        "gbc = GradientBoostingClassifier()\r\n",
        "parameters = {\r\n",
        "    'n_estimators': [80, 90, 100, 125, 150],\r\n",
        "    'max_depth': [2,3,4,5,8,16,None],\r\n",
        "    'learning_rate': [0.03, 0.1, 0.3, 0.5]\r\n",
        "}\r\n",
        "cv = GridSearchCV(gbc, parameters, cv=3) \r\n",
        "cv.fit(X_important_train, y_train)\r\n",
        "\r\n",
        "print_results(cv)"
      ],
      "execution_count": null,
      "outputs": []
    },
    {
      "cell_type": "code",
      "metadata": {
        "id": "jliakJkfa3W-"
      },
      "source": [
        "print(cv.best_estimator_)"
      ],
      "execution_count": null,
      "outputs": []
    },
    {
      "cell_type": "code",
      "metadata": {
        "id": "vC9WQvyVahpc"
      },
      "source": [
        "cv.best_score_"
      ],
      "execution_count": null,
      "outputs": []
    },
    {
      "cell_type": "code",
      "metadata": {
        "id": "MBjzk55Sa784"
      },
      "source": [
        "metrics.f1_score(y_test,cv.predict(X_important_test))"
      ],
      "execution_count": null,
      "outputs": []
    },
    {
      "cell_type": "code",
      "metadata": {
        "id": "rtJ595o0bKpd"
      },
      "source": [
        "result_df_2= pd.read_csv('test_HR.csv')\r\n",
        "result_df_2 = result_df[['employee_id']]"
      ],
      "execution_count": null,
      "outputs": []
    },
    {
      "cell_type": "code",
      "metadata": {
        "id": "88n_jwkBbT8H"
      },
      "source": [
        "#use model for prediction on test set\r\n",
        "y_pred_2 = cv.predict(test_HR)"
      ],
      "execution_count": null,
      "outputs": []
    },
    {
      "cell_type": "code",
      "metadata": {
        "id": "qiU87X5XbhqN"
      },
      "source": [
        "result_df_2['is_promoted'] = pd.Series(y_pred_2)\r\n",
        "result_df_2.head()"
      ],
      "execution_count": null,
      "outputs": []
    },
    {
      "cell_type": "code",
      "metadata": {
        "id": "9wOuC2YgbouZ"
      },
      "source": [
        "from google.colab import files\r\n",
        "result_df_2.to_csv('HR_Analytics_2.csv',index=False)\r\n",
        "files.download('HR_Analytics_2.csv')"
      ],
      "execution_count": null,
      "outputs": []
    }
  ]
}